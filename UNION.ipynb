{
 "cells": [
  {
   "cell_type": "code",
   "execution_count": 1,
   "id": "9a602dd0",
   "metadata": {},
   "outputs": [
    {
     "name": "stdout",
     "output_type": "stream",
     "text": [
      "1 2 3 4 5 "
     ]
    }
   ],
   "source": [
    "def union(a,b):\n",
    "    i, j = 0, 0\n",
    "    res = []\n",
    "    while i < len(a) and j < len(b):\n",
    "        if a[i] < b[j]:\n",
    "            if len(res)==0 or res[-1]!= a[i]:\n",
    "                res.append(a[i])\n",
    "            i+=1\n",
    "        elif a[i] > b[j]:\n",
    "            if len(res)==0 or res[-1]!= b[j]:\n",
    "                res.append(b[j])\n",
    "            j+=1\n",
    "        else:\n",
    "            if len(res)==0 or res[-1]!= a[i]:\n",
    "                res.append(a[i])\n",
    "            i+=1\n",
    "            j+=1\n",
    "                    \n",
    "                    \n",
    "    while i < len(a):\n",
    "        if len(res)==0 or res[-1]!= a[i]:\n",
    "                res.append(a[i])\n",
    "        i+=1\n",
    "    while j < len(b):\n",
    "        if len(res)==0 or res[-1]!= b[j]:\n",
    "                res.append(b[j])\n",
    "        j+=1\n",
    "                \n",
    "    return res\n",
    "        \n",
    "a = [1,2,2,3,4]\n",
    "b = [3,4,5]\n",
    "\n",
    "\n",
    "output = union(a, b)\n",
    "\n",
    "if output:\n",
    "    print(' '.join(map(str,output)),end = ' ')\n",
    "else:\n",
    "    print(\"[]\")"
   ]
  },
  {
   "cell_type": "code",
   "execution_count": 35,
   "id": "e63d1651",
   "metadata": {},
   "outputs": [
    {
     "name": "stdout",
     "output_type": "stream",
     "text": [
      "-4 -2 1 3 6 "
     ]
    }
   ],
   "source": [
    "def union(a,b):\n",
    "    i, j = 0, 0\n",
    "    res = []\n",
    "    for _ in range(len(a) and len(b)):\n",
    "        if i >= len(a) or j>= len(b):\n",
    "            break\n",
    "        if a[i] < b[j]:\n",
    "            if len(res)==0 or res[-1]!= a[i]:\n",
    "                res.append(a[i])\n",
    "            i+=1\n",
    "        elif a[i] > b[j]:\n",
    "            if len(res)==0 or res[-1]!= b[j]:\n",
    "                res.append(b[j])\n",
    "            j+=1\n",
    "        else:\n",
    "            if len(res)==0 or res[-1]!= a[i]:\n",
    "                res.append(a[i])\n",
    "            i+=1\n",
    "            j+=1\n",
    "                    \n",
    "                    \n",
    "    for k in range(i,len(a)):\n",
    "        if len(res)==0 or res[-1]!= a[k]:\n",
    "                res.append(a[k])\n",
    "        k+=1\n",
    "    for k in range(j,len(b)):\n",
    "        if len(res)==0 or res[-1]!= b[k]:\n",
    "                res.append(b[k])\n",
    "        k+=1\n",
    "                \n",
    "    return res\n",
    "        \n",
    "a = [-4,-2,1]\n",
    "b = [3,6]\n",
    "\n",
    "\n",
    "output = union(a, b)\n",
    "\n",
    "if output:\n",
    "    print(' '.join(map(str,output)),end = ' ')\n",
    "else:\n",
    "    print(\"[]\")"
   ]
  },
  {
   "cell_type": "code",
   "execution_count": null,
   "id": "188cb864",
   "metadata": {},
   "outputs": [],
   "source": []
  }
 ],
 "metadata": {
  "kernelspec": {
   "display_name": "Python 3 (ipykernel)",
   "language": "python",
   "name": "python3"
  },
  "language_info": {
   "codemirror_mode": {
    "name": "ipython",
    "version": 3
   },
   "file_extension": ".py",
   "mimetype": "text/x-python",
   "name": "python",
   "nbconvert_exporter": "python",
   "pygments_lexer": "ipython3",
   "version": "3.11.5"
  }
 },
 "nbformat": 4,
 "nbformat_minor": 5
}
