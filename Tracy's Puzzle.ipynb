{
 "cells": [
  {
   "cell_type": "code",
   "execution_count": 2,
   "id": "845ed7ff",
   "metadata": {},
   "outputs": [
    {
     "name": "stdout",
     "output_type": "stream",
     "text": [
      "9\n",
      "1 -2 -3 1 -4 5 2 3 6\n",
      "3\n",
      "[1, 1, 1, 5, 5, 5, 6]\n"
     ]
    }
   ],
   "source": [
    "'''IF MY K = 3 , I HAVE TO TAKE EACH 3 SET-S OF ELEMENTS FROM MY ARRAY'''\n",
    "\n",
    "\n",
    "'''Ms. Tracy, the secretary of Mr. Code Stark was given a puzzle to solve.\n",
    "She was given an array of integers arr, there is a sliding window of size k which is moving from the very left of the array to the very right. You can only see the k numbers in the window. Each time the sliding window moves right by one position. Return the max sliding window.\n",
    "\n",
    "Constraints:\n",
    "arrLen (Length of arr) will be always greater than or equal to k.\n",
    "0 < arrLen < 105\n",
    "- 105 < arr[i] < 105\n",
    "0 < k <= arrLen\n",
    "\n",
    "Input: \n",
    "arrLen = 9\n",
    "arr = {1, -2, -3, 1, -4, 5, 2, 3, 6}\n",
    "k = 3 \n",
    "\n",
    "Output:\n",
    "1,1,1,5,5,5,6\n",
    "\n",
    "Explanation: \n",
    "Maximum of 1, -2, -3 is 1\n",
    "\n",
    "Maximum of -2, -3, 1 is 1\n",
    "\n",
    "Maximum of -3, 1, -4 is 1\n",
    "\n",
    "Maximum of 1, -4, 5 is 5\n",
    "\n",
    "Maximum of -4, 5, 2 is 5 \n",
    "\n",
    "Maximum of 5, 2, 3 is 5\n",
    "\n",
    "Maximum of 2, 3, 6 is 6\n",
    "\n",
    "Instruction: To run your custom test cases strictly map your input and output layout with the visible test cases.\n",
    "'''\n",
    "\n",
    "\n",
    "#code:\n",
    "#bruteforce\n",
    "\n",
    "\n",
    "def tracy_puzzle(arr,k):\n",
    "    res = []\n",
    "    for i in range(len(arr)-k+1):\n",
    "        window_max = max(arr[i:i+k])\n",
    "        res.append(window_max)\n",
    "    return res\n",
    "\n",
    "arrlen= int(input())\n",
    "arr = list(map(int,input().split()))\n",
    "k = int(input())\n",
    "\n",
    "print(tracy_puzzle(arr,k))"
   ]
  },
  {
   "cell_type": "code",
   "execution_count": 4,
   "id": "b5c621f0",
   "metadata": {},
   "outputs": [
    {
     "name": "stdout",
     "output_type": "stream",
     "text": [
      "[1, 1, 1, 5, 5, 5, 6]\n"
     ]
    }
   ],
   "source": [
    "def maxSlidingWindow(arr, k):\n",
    "    n = len(arr)\n",
    "    result = []\n",
    "    \n",
    "    for i in range(n - k + 1):\n",
    "        max_val = arr[i]\n",
    "        for j in range(i, i + k):\n",
    "            if arr[j] > max_val:\n",
    "                max_val = arr[j]\n",
    "        result.append(max_val)\n",
    "    \n",
    "    return result\n",
    "\n",
    "arrLen = 9\n",
    "arr = [1, -2, -3, 1, -4, 5, 2, 3, 6]\n",
    "k = 3\n",
    "\n",
    "print(maxSlidingWindow(arr, k))\n"
   ]
  },
  {
   "cell_type": "code",
   "execution_count": 5,
   "id": "10d8bc4a",
   "metadata": {},
   "outputs": [
    {
     "name": "stdout",
     "output_type": "stream",
     "text": [
      "1 -2 -3 1 -4 5 2 3 6\n",
      "3\n",
      "[1, 1, 1, 5, 5, 5, 6]\n"
     ]
    }
   ],
   "source": [
    "from collections import deque\n",
    "from typing import List\n",
    "\n",
    "class Solution:\n",
    "    def maxSlidingWindow(self, nums: List[int], k: int) -> List[int]:\n",
    "        dq = deque()  \n",
    "        res = []\n",
    "\n",
    "        for i in range(len(nums)):\n",
    "            \n",
    "            while dq and dq[0] < i - k + 1:\n",
    "                dq.popleft()\n",
    "            \n",
    "            while dq and nums[dq[-1]] < nums[i]:\n",
    "                dq.pop()\n",
    "\n",
    "            dq.append(i)\n",
    "\n",
    "            if i >= k - 1:\n",
    "                res.append(nums[dq[0]])\n",
    "\n",
    "        return res\n",
    "nums = list(map(int, input().split()))\n",
    "k = int(input())\n",
    "\n",
    "solution = Solution()\n",
    "result = solution.maxSlidingWindow(nums, k)\n",
    "print(result)"
   ]
  },
  {
   "cell_type": "code",
   "execution_count": 11,
   "id": "e9e6e840",
   "metadata": {},
   "outputs": [
    {
     "name": "stdout",
     "output_type": "stream",
     "text": [
      "1 -2 -3 1 4 5 2 3 6\n",
      "3\n",
      "[1, 1, 4, 5, 5, 5, 6]\n"
     ]
    }
   ],
   "source": [
    "\n",
    "    def maxSlidingWindow(nums, k):\n",
    "        dq = deque()  \n",
    "        res = []\n",
    "\n",
    "        for i in range(len(nums)):\n",
    "            \n",
    "            while dq and dq[0] < i - k + 1:\n",
    "                dq.popleft()\n",
    "            \n",
    "            while dq and nums[dq[-1]] < nums[i]:\n",
    "                dq.pop()\n",
    "\n",
    "            dq.append(i)\n",
    "\n",
    "            if i >= k - 1:\n",
    "                res.append(nums[dq[0]])\n",
    "\n",
    "        return res\n",
    "nums = list(map(int, input().split()))\n",
    "k = int(input())\n",
    "\n",
    "result =maxSlidingWindow(nums, k)\n",
    "print(result)"
   ]
  },
  {
   "cell_type": "code",
   "execution_count": null,
   "id": "87047357",
   "metadata": {},
   "outputs": [],
   "source": []
  }
 ],
 "metadata": {
  "kernelspec": {
   "display_name": "Python 3 (ipykernel)",
   "language": "python",
   "name": "python3"
  },
  "language_info": {
   "codemirror_mode": {
    "name": "ipython",
    "version": 3
   },
   "file_extension": ".py",
   "mimetype": "text/x-python",
   "name": "python",
   "nbconvert_exporter": "python",
   "pygments_lexer": "ipython3",
   "version": "3.11.5"
  }
 },
 "nbformat": 4,
 "nbformat_minor": 5
}
