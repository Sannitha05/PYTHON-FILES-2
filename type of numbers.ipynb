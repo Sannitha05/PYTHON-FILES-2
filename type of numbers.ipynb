{
 "cells": [
  {
   "cell_type": "code",
   "execution_count": 4,
   "id": "0d630f15-c015-48ce-8c7c-1f1a256a2abd",
   "metadata": {},
   "outputs": [
    {
     "name": "stdout",
     "output_type": "stream",
     "text": [
      "abundant\n"
     ]
    }
   ],
   "source": [
    "n=24\n",
    "s=1\n",
    "for i in range(2,n):\n",
    "    if n%i==0:\n",
    "        s=s+i\n",
    "if s>n:\n",
    "    print(\"abundant\")\n",
    "else:\n",
    "    print(\"not abundant\")\n",
    "    "
   ]
  },
  {
   "cell_type": "code",
   "execution_count": 36,
   "id": "29192963-0dbe-48bb-a88c-104cd877b29a",
   "metadata": {},
   "outputs": [],
   "source": [
    "#happy number\n",
    "def nss():\n",
    "    while n!=0:\n",
    "        ss+=(n%10)*(n%10)\n",
    "        n=n//10\n",
    "        return n\n",
    "def ihn(n):\n",
    "    st=set()\n",
    "    while(1):\n",
    "        n=nss(n)\n",
    "        if n==1:\n",
    "            return True\n",
    "            if n in st:\n",
    "                return False\n",
    "                st.add(n)\n",
    "                print(ihn(130))"
   ]
  },
  {
   "cell_type": "code",
   "execution_count": null,
   "id": "39caaae4-4788-4f54-a1d4-b02593d44167",
   "metadata": {},
   "outputs": [],
   "source": []
  }
 ],
 "metadata": {
  "kernelspec": {
   "display_name": "Python 3 (ipykernel)",
   "language": "python",
   "name": "python3"
  },
  "language_info": {
   "codemirror_mode": {
    "name": "ipython",
    "version": 3
   },
   "file_extension": ".py",
   "mimetype": "text/x-python",
   "name": "python",
   "nbconvert_exporter": "python",
   "pygments_lexer": "ipython3",
   "version": "3.11.7"
  }
 },
 "nbformat": 4,
 "nbformat_minor": 5
}
