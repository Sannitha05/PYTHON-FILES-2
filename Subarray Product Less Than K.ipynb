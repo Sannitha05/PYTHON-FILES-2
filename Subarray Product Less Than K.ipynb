{
 "cells": [
  {
   "cell_type": "code",
   "execution_count": 1,
   "id": "be919beb",
   "metadata": {},
   "outputs": [
    {
     "name": "stdout",
     "output_type": "stream",
     "text": [
      "100\n",
      "10 5 2 6\n",
      "8\n"
     ]
    }
   ],
   "source": [
    "def numSubarrayProductLessThanK(nums,k):\n",
    "    cur_pro=1\n",
    "    count=0\n",
    "    j=0\n",
    "    for i in range(len(nums)):\n",
    "        cur_pro*=nums[i]\n",
    "        while cur_pro>=k and j<=i:\n",
    "            cur_pro//=nums[j]\n",
    "            j+=1\n",
    "        count+=(i-j+1)\n",
    "    return count\n",
    "k = int(input())\n",
    "nums = list(map(int,input().split()))\n",
    "print(numSubarrayProductLessThanK(nums,k))"
   ]
  },
  {
   "cell_type": "code",
   "execution_count": 2,
   "id": "f60013ac",
   "metadata": {},
   "outputs": [
    {
     "name": "stdout",
     "output_type": "stream",
     "text": [
      "0\n",
      "1 2 3\n",
      "0\n"
     ]
    }
   ],
   "source": [
    "def numSubarrayProductLessThanK(nums,k):\n",
    "    cur_pro=1\n",
    "    count=0\n",
    "    j=0\n",
    "    for i in range(len(nums)):\n",
    "        cur_pro*=nums[i]\n",
    "        while cur_pro>=k and j<=i:\n",
    "            cur_pro//=nums[j]\n",
    "            j+=1\n",
    "        count+=(i-j+1)\n",
    "    return count\n",
    "k = int(input())\n",
    "nums = list(map(int,input().split()))\n",
    "print(numSubarrayProductLessThanK(nums,k))"
   ]
  },
  {
   "cell_type": "code",
   "execution_count": null,
   "id": "7766dae1",
   "metadata": {},
   "outputs": [],
   "source": []
  }
 ],
 "metadata": {
  "kernelspec": {
   "display_name": "Python 3 (ipykernel)",
   "language": "python",
   "name": "python3"
  },
  "language_info": {
   "codemirror_mode": {
    "name": "ipython",
    "version": 3
   },
   "file_extension": ".py",
   "mimetype": "text/x-python",
   "name": "python",
   "nbconvert_exporter": "python",
   "pygments_lexer": "ipython3",
   "version": "3.11.5"
  }
 },
 "nbformat": 4,
 "nbformat_minor": 5
}
