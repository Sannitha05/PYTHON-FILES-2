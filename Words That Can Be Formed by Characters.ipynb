{
 "cells": [
  {
   "cell_type": "code",
   "execution_count": 3,
   "id": "f8656083",
   "metadata": {},
   "outputs": [
    {
     "name": "stdout",
     "output_type": "stream",
     "text": [
      "Enter words separated by space: cat bt hat tree\n",
      "Enter the available characters: atach\n",
      "Total length of good words (Brute Force): 6\n"
     ]
    }
   ],
   "source": [
    "#BRUTE FORCE\n",
    "\n",
    "from typing import List\n",
    "\n",
    "class Solution:\n",
    "    def countCharacters(self, words: List[str], chars: str) -> int:\n",
    "        total = 0\n",
    "        for word in words:\n",
    "            for ch in word:\n",
    "                if word.count(ch) > chars.count(ch):\n",
    "                    break\n",
    "            else:\n",
    "                total += len(word)\n",
    "        return total\n",
    "\n",
    "words = input(\"Enter words separated by space: \").split()\n",
    "chars = input(\"Enter the available characters: \")\n",
    "\n",
    "sol = Solution()\n",
    "print(\"Total length of good words (Brute Force):\", sol.countCharacters(words, chars))\n"
   ]
  },
  {
   "cell_type": "code",
   "execution_count": 5,
   "id": "e877ec7e",
   "metadata": {},
   "outputs": [
    {
     "name": "stdout",
     "output_type": "stream",
     "text": [
      "Enter words separated by space: hello world leetcode\n",
      "Enter the available characters: welldonehoney\n",
      "Total length of good words (Optimized): 5\n"
     ]
    }
   ],
   "source": [
    "#OPTIMISED \n",
    "\n",
    "from typing import List\n",
    "from collections import Counter\n",
    "\n",
    "class Solution:\n",
    "    def countCharacters(self, words: List[str], chars: str) -> int:\n",
    "        chars_count = Counter(chars)\n",
    "        total = 0\n",
    "        for word in words:\n",
    "            word_count = Counter(word)\n",
    "            if all(word_count[ch] <= chars_count.get(ch, 0) for ch in word):\n",
    "                total += len(word)\n",
    "        return total\n",
    "\n",
    "words = input(\"Enter words separated by space: \").split()\n",
    "chars = input(\"Enter the available characters: \")\n",
    "\n",
    "sol = Solution()\n",
    "print(\"Total length of good words (Optimized):\", sol.countCharacters(words, chars))\n"
   ]
  },
  {
   "cell_type": "code",
   "execution_count": null,
   "id": "8a58fdf7",
   "metadata": {},
   "outputs": [],
   "source": []
  }
 ],
 "metadata": {
  "kernelspec": {
   "display_name": "Python 3 (ipykernel)",
   "language": "python",
   "name": "python3"
  },
  "language_info": {
   "codemirror_mode": {
    "name": "ipython",
    "version": 3
   },
   "file_extension": ".py",
   "mimetype": "text/x-python",
   "name": "python",
   "nbconvert_exporter": "python",
   "pygments_lexer": "ipython3",
   "version": "3.11.5"
  }
 },
 "nbformat": 4,
 "nbformat_minor": 5
}
