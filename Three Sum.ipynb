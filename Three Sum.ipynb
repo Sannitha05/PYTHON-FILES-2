{
 "cells": [
  {
   "cell_type": "code",
   "execution_count": 4,
   "id": "7ad9d7a7",
   "metadata": {},
   "outputs": [
    {
     "ename": "TypeError",
     "evalue": "sorted expected 1 argument, got 3",
     "output_type": "error",
     "traceback": [
      "\u001b[1;31m---------------------------------------------------------------------------\u001b[0m",
      "\u001b[1;31mTypeError\u001b[0m                                 Traceback (most recent call last)",
      "Cell \u001b[1;32mIn[4], line 16\u001b[0m\n\u001b[0;32m     13\u001b[0m     \u001b[38;5;28;01mreturn\u001b[39;00m result\n\u001b[0;32m     15\u001b[0m nums \u001b[38;5;241m=\u001b[39m [\u001b[38;5;241m2\u001b[39m,\u001b[38;5;241m-\u001b[39m\u001b[38;5;241m2\u001b[39m,\u001b[38;5;241m0\u001b[39m,\u001b[38;5;241m3\u001b[39m,\u001b[38;5;241m-\u001b[39m\u001b[38;5;241m3\u001b[39m,\u001b[38;5;241m5\u001b[39m]\n\u001b[1;32m---> 16\u001b[0m \u001b[38;5;28mprint\u001b[39m(three_sum(nums))\n",
      "Cell \u001b[1;32mIn[4], line 8\u001b[0m, in \u001b[0;36mthree_sum\u001b[1;34m(nums)\u001b[0m\n\u001b[0;32m      6\u001b[0m \u001b[38;5;28;01mfor\u001b[39;00m k \u001b[38;5;129;01min\u001b[39;00m \u001b[38;5;28mrange\u001b[39m(j\u001b[38;5;241m+\u001b[39m\u001b[38;5;241m1\u001b[39m,n):\n\u001b[0;32m      7\u001b[0m     \u001b[38;5;28;01mif\u001b[39;00m nums[i] \u001b[38;5;241m+\u001b[39m nums[j] \u001b[38;5;241m+\u001b[39mnums[k]\u001b[38;5;241m==\u001b[39m\u001b[38;5;241m0\u001b[39m:\n\u001b[1;32m----> 8\u001b[0m         triplet \u001b[38;5;241m=\u001b[39m \u001b[38;5;28msorted\u001b[39m(nums[i],nums[j],nums[k])\n\u001b[0;32m      9\u001b[0m     \u001b[38;5;28;01melif\u001b[39;00m triplet \u001b[38;5;129;01mnot\u001b[39;00m \u001b[38;5;129;01min\u001b[39;00m result:\n\u001b[0;32m     10\u001b[0m         result\u001b[38;5;241m.\u001b[39mappend(triplet)\n",
      "\u001b[1;31mTypeError\u001b[0m: sorted expected 1 argument, got 3"
     ]
    }
   ],
   "source": [
    "def three_sum(nums):\n",
    "    n = len(nums)\n",
    "    res=[]\n",
    "    for i in range(n):\n",
    "        for j in range(i+1,n):\n",
    "            for k in range(j+1,n):\n",
    "                if nums[i] + nums[j] +nums[k]==0:\n",
    "                    triplet = sorted(nums[i],nums[j],nums[k])\n",
    "                elif triplet not in result:\n",
    "                    result.append(triplet)\n",
    "                else:\n",
    "                    print(\"[]\")\n",
    "    return result\n",
    "\n",
    "nums = [2,-2,0,3,-3,5]\n",
    "print(three_sum(nums))"
   ]
  },
  {
   "cell_type": "code",
   "execution_count": null,
   "id": "2001243f",
   "metadata": {},
   "outputs": [],
   "source": []
  }
 ],
 "metadata": {
  "kernelspec": {
   "display_name": "Python 3 (ipykernel)",
   "language": "python",
   "name": "python3"
  },
  "language_info": {
   "codemirror_mode": {
    "name": "ipython",
    "version": 3
   },
   "file_extension": ".py",
   "mimetype": "text/x-python",
   "name": "python",
   "nbconvert_exporter": "python",
   "pygments_lexer": "ipython3",
   "version": "3.11.5"
  }
 },
 "nbformat": 4,
 "nbformat_minor": 5
}
