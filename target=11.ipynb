{
 "cells": [
  {
   "cell_type": "code",
   "execution_count": 1,
   "id": "06da39fd",
   "metadata": {},
   "outputs": [
    {
     "name": "stdout",
     "output_type": "stream",
     "text": [
      "{3, 5, 7, 9, 11, 13, 15, 17, 19}\n",
      "{2, 3, 5, 7, 11, 13, 17, 19}\n"
     ]
    }
   ],
   "source": [
    "#write a prog. that generates a set of prime no's and another set of odd numbers\n",
    "#demonstrate the result of union , intersection , difference and assymmetric difference operations on these sets.\n",
    "odd=set([x*2+1 for x in range(1,10)])\n",
    "print(odd)\n",
    "prime=set()\n",
    "for i in range(2,20):\n",
    "    j=2\n",
    "    is_prime=True\n",
    "    while j<=i//2:\n",
    "        if i%j==0:\n",
    "            is_prime=False\n",
    "            break\n",
    "        j+=1\n",
    "    if is_prime:\n",
    "        prime.add(i)\n",
    "print(prime)"
   ]
  },
  {
   "cell_type": "code",
   "execution_count": 19,
   "id": "dbd17d38",
   "metadata": {},
   "outputs": [
    {
     "ename": "TypeError",
     "evalue": "'set' object is not subscriptable",
     "output_type": "error",
     "traceback": [
      "\u001b[1;31m---------------------------------------------------------------------------\u001b[0m",
      "\u001b[1;31mTypeError\u001b[0m                                 Traceback (most recent call last)",
      "Cell \u001b[1;32mIn[19], line 4\u001b[0m\n\u001b[0;32m      2\u001b[0m s\u001b[38;5;241m=\u001b[39m\u001b[38;5;28mset\u001b[39m([\u001b[38;5;241m2\u001b[39m,\u001b[38;5;241m4\u001b[39m,\u001b[38;5;241m9\u001b[39m,\u001b[38;5;241m15\u001b[39m])\n\u001b[0;32m      3\u001b[0m target\u001b[38;5;241m=\u001b[39m\u001b[38;5;241m11\u001b[39m\n\u001b[1;32m----> 4\u001b[0m \u001b[38;5;28;01mif\u001b[39;00m f[i]\u001b[38;5;241m+\u001b[39ms[i]\u001b[38;5;241m>\u001b[39m\u001b[38;5;241m=\u001b[39m\u001b[38;5;241m8\u001b[39m \u001b[38;5;129;01mand\u001b[39;00m f[i]\u001b[38;5;241m+\u001b[39ms[i]\u001b[38;5;241m<\u001b[39m\u001b[38;5;241m=\u001b[39m\u001b[38;5;241m11\u001b[39m :\n\u001b[0;32m      5\u001b[0m     \u001b[38;5;28mprint\u001b[39m(\u001b[38;5;124m\"\u001b[39m\u001b[38;5;124mthe closest pair is\u001b[39m\u001b[38;5;124m\"\u001b[39m,(f[i],s[i]))\n\u001b[0;32m      6\u001b[0m \u001b[38;5;28;01melse\u001b[39;00m:\n",
      "\u001b[1;31mTypeError\u001b[0m: 'set' object is not subscriptable"
     ]
    }
   ],
   "source": [
    "f=set([1,8,10,12])\n",
    "s=set([2,4,9,15])\n",
    "target=11\n",
    "if f[i]+s[i]>=8 and f[i]+s[i]<=11 :\n",
    "    print(\"the closest pair is\",(f[i],s[i]))\n",
    "else:\n",
    "    print(\"out of range\")"
   ]
  },
  {
   "cell_type": "code",
   "execution_count": 30,
   "id": "cd213bde",
   "metadata": {},
   "outputs": [
    {
     "ename": "TypeError",
     "evalue": "'set' object is not subscriptable",
     "output_type": "error",
     "traceback": [
      "\u001b[1;31m---------------------------------------------------------------------------\u001b[0m",
      "\u001b[1;31mTypeError\u001b[0m                                 Traceback (most recent call last)",
      "Cell \u001b[1;32mIn[30], line 7\u001b[0m\n\u001b[0;32m      5\u001b[0m \u001b[38;5;28;01mfor\u001b[39;00m i \u001b[38;5;129;01min\u001b[39;00m \u001b[38;5;28mrange\u001b[39m(\u001b[38;5;28mlen\u001b[39m(f)):\n\u001b[0;32m      6\u001b[0m     \u001b[38;5;28;01mfor\u001b[39;00m j \u001b[38;5;129;01min\u001b[39;00m \u001b[38;5;28mrange\u001b[39m(\u001b[38;5;28mlen\u001b[39m(s)):\n\u001b[1;32m----> 7\u001b[0m         \u001b[38;5;28;01mif\u001b[39;00m x\u001b[38;5;241m+\u001b[39my\u001b[38;5;241m<\u001b[39mf[i]\u001b[38;5;241m+\u001b[39ms[j]\u001b[38;5;241m<\u001b[39m\u001b[38;5;241m=\u001b[39mtarget:\n\u001b[0;32m      8\u001b[0m             x,y\u001b[38;5;241m=\u001b[39mf[i],s[j]\n\u001b[0;32m      9\u001b[0m \u001b[38;5;28mprint\u001b[39m(x,y)\n",
      "\u001b[1;31mTypeError\u001b[0m: 'set' object is not subscriptable"
     ]
    }
   ],
   "source": [
    "f=set([1,8,10,12])\n",
    "s=set([2,4,9,15])\n",
    "x,y=0,0\n",
    "target=11\n",
    "for i in range(len(f)):\n",
    "    for j in range(len(s)):\n",
    "        if x+y<f[i]+s[j]<=target:\n",
    "            x,y=f[i],s[j]\n",
    "print(x,y)"
   ]
  },
  {
   "cell_type": "markdown",
   "id": "ef8f3243",
   "metadata": {},
   "source": []
  },
  {
   "cell_type": "code",
   "execution_count": null,
   "id": "a2045d33",
   "metadata": {},
   "outputs": [],
   "source": []
  }
 ],
 "metadata": {
  "kernelspec": {
   "display_name": "Python 3 (ipykernel)",
   "language": "python",
   "name": "python3"
  },
  "language_info": {
   "codemirror_mode": {
    "name": "ipython",
    "version": 3
   },
   "file_extension": ".py",
   "mimetype": "text/x-python",
   "name": "python",
   "nbconvert_exporter": "python",
   "pygments_lexer": "ipython3",
   "version": "3.11.5"
  }
 },
 "nbformat": 4,
 "nbformat_minor": 5
}
