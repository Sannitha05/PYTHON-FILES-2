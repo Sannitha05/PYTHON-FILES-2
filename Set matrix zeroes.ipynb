{
 "cells": [
  {
   "cell_type": "code",
   "execution_count": 2,
   "id": "41595f66",
   "metadata": {},
   "outputs": [
    {
     "name": "stdout",
     "output_type": "stream",
     "text": [
      "Enter number of rows: 3\n",
      "Enter number of columns: 3\n",
      "Enter row 1 (space-separated): 1 1 1\n",
      "Enter row 2 (space-separated): 1 0 1\n",
      "Enter row 3 (space-separated): 1 1 1\n",
      "Original Matrix:\n",
      "[1, 1, 1]\n",
      "[1, 0, 1]\n",
      "[1, 1, 1]\n",
      "Modified Matrix:\n",
      "[1, 0, 1]\n",
      "[0, 0, 0]\n",
      "[1, 0, 1]\n"
     ]
    }
   ],
   "source": [
    "def setZeroes(matrix):\n",
    "    zeroinFirstCol = False\n",
    "    for row in range(len(matrix)):\n",
    "        if matrix[row][0] == 0:\n",
    "            zeroinFirstCol = True\n",
    "        for col in range(1, len(matrix[0])):\n",
    "            if matrix[row][col] == 0:\n",
    "                matrix[row][0] = 0\n",
    "                matrix[0][col] = 0\n",
    "\n",
    "    for row in range(len(matrix) - 1, -1, -1):\n",
    "        for col in range(len(matrix[0]) - 1, 0, -1):\n",
    "            if matrix[row][0] == 0 or matrix[0][col] == 0:\n",
    "                matrix[row][col] = 0\n",
    "        if zeroinFirstCol:\n",
    "            matrix[row][0] = 0\n",
    "\n",
    "rows = int(input(\"Enter number of rows: \"))\n",
    "cols = int(input(\"Enter number of columns: \"))\n",
    "\n",
    "matrix = []\n",
    "for i in range(rows):\n",
    "    row = list(map(int, input(f\"Enter row {i+1} (space-separated): \").split()))\n",
    "    matrix.append(row)\n",
    "\n",
    "print(\"Original Matrix:\")\n",
    "for row in matrix:\n",
    "    print(row)\n",
    "\n",
    "setZeroes(matrix)\n",
    "\n",
    "print(\"Modified Matrix:\")\n",
    "for row in matrix:\n",
    "    print(row)\n"
   ]
  },
  {
   "cell_type": "code",
   "execution_count": null,
   "id": "a97fafe0",
   "metadata": {},
   "outputs": [],
   "source": []
  }
 ],
 "metadata": {
  "kernelspec": {
   "display_name": "Python 3 (ipykernel)",
   "language": "python",
   "name": "python3"
  },
  "language_info": {
   "codemirror_mode": {
    "name": "ipython",
    "version": 3
   },
   "file_extension": ".py",
   "mimetype": "text/x-python",
   "name": "python",
   "nbconvert_exporter": "python",
   "pygments_lexer": "ipython3",
   "version": "3.11.5"
  }
 },
 "nbformat": 4,
 "nbformat_minor": 5
}
