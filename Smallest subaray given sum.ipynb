{
 "cells": [
  {
   "cell_type": "code",
   "execution_count": 2,
   "id": "6dbc0b14",
   "metadata": {},
   "outputs": [
    {
     "name": "stdout",
     "output_type": "stream",
     "text": [
      "1 4 45 6 0 19\n",
      "51\n",
      "3\n"
     ]
    }
   ],
   "source": [
    "def smallestSubarrayGivenSum(A, t):\n",
    "    n = len(A)\n",
    "    start = 0\n",
    "    sum_ = 0\n",
    "    min_len = n + 1\n",
    "\n",
    "    for end in range(n):\n",
    "        sum_ += A[end]\n",
    "\n",
    "        while sum_ > t:\n",
    "            min_len = min(min_len, end - start + 1)\n",
    "            sum_ -= A[start]\n",
    "            start += 1\n",
    "\n",
    "    return min_len if min_len <= n else 0\n",
    "\n",
    "\n",
    "A = list(map(int,input().split()))\n",
    "t = int(input())\n",
    "\n",
    "\n",
    "print(smallestSubarrayGivenSum(A,t))"
   ]
  },
  {
   "cell_type": "code",
   "execution_count": 3,
   "id": "3cce71ab",
   "metadata": {},
   "outputs": [
    {
     "name": "stdout",
     "output_type": "stream",
     "text": [
      "1 4 45 6 0 1 9\n",
      "51\n",
      "Subarray: [4, 45, 6]\n",
      "Length: 3\n"
     ]
    }
   ],
   "source": [
    "def smallestSubarrayGivenSum(A, t):\n",
    "    n = len(A)\n",
    "    start = 0\n",
    "    sum_ = 0\n",
    "    min_len = n + 1\n",
    "    result = []\n",
    "\n",
    "    for end in range(n):\n",
    "        sum_ += A[end]\n",
    "\n",
    "        while sum_ > t:\n",
    "            if end - start + 1 < min_len:\n",
    "                min_len = end - start + 1\n",
    "                result = A[start:end + 1]  # store the current subarray\n",
    "            sum_ -= A[start]\n",
    "            start += 1\n",
    "\n",
    "    return result if result else []\n",
    "\n",
    "A = list(map(int, input().split()))\n",
    "t = int(input())\n",
    "res = smallestSubarrayGivenSum(A, t)\n",
    "\n",
    "if res:\n",
    "    print(\"Subarray:\", res)\n",
    "    print(\"Length:\", len(res))\n",
    "else:\n",
    "    print(\"No such subarray\")\n"
   ]
  },
  {
   "cell_type": "code",
   "execution_count": null,
   "id": "0c5d2ef7",
   "metadata": {},
   "outputs": [],
   "source": []
  }
 ],
 "metadata": {
  "kernelspec": {
   "display_name": "Python 3 (ipykernel)",
   "language": "python",
   "name": "python3"
  },
  "language_info": {
   "codemirror_mode": {
    "name": "ipython",
    "version": 3
   },
   "file_extension": ".py",
   "mimetype": "text/x-python",
   "name": "python",
   "nbconvert_exporter": "python",
   "pygments_lexer": "ipython3",
   "version": "3.11.5"
  }
 },
 "nbformat": 4,
 "nbformat_minor": 5
}
