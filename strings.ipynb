{
 "cells": [
  {
   "cell_type": "code",
   "execution_count": 1,
   "id": "4b3e3a2a-bb3d-407d-b975-55f7d6dc9af6",
   "metadata": {},
   "outputs": [
    {
     "name": "stdout",
     "output_type": "stream",
     "text": [
      "8\n"
     ]
    }
   ],
   "source": [
    "str='he'\n",
    "text='hellohellohellohellohellohellohellohello'\n",
    "print(text.count(str,0,len(text)))"
   ]
  },
  {
   "cell_type": "code",
   "execution_count": 2,
   "id": "486a352b-2f4c-449b-875f-3867d374702a",
   "metadata": {},
   "outputs": [
    {
     "name": "stdout",
     "output_type": "stream",
     "text": [
      "16\n"
     ]
    }
   ],
   "source": [
    "str='l'\n",
    "text='hellohellohellohellohellohellohellohello'\n",
    "print(text.count(str,0,len(text)))"
   ]
  },
  {
   "cell_type": "code",
   "execution_count": 4,
   "id": "57945fd7-4556-4605-8e4f-abf3cb52f601",
   "metadata": {},
   "outputs": [
    {
     "name": "stdout",
     "output_type": "stream",
     "text": [
      "True\n"
     ]
    }
   ],
   "source": [
    "text='india is my country'\n",
    "print(text.startswith('in',0,len(text)))"
   ]
  },
  {
   "cell_type": "code",
   "execution_count": 5,
   "id": "c16149cd-b75c-4878-ae01-c66a722657ab",
   "metadata": {},
   "outputs": [
    {
     "name": "stdout",
     "output_type": "stream",
     "text": [
      "False\n"
     ]
    }
   ],
   "source": [
    "text='india is my country'\n",
    "print(text.startswith('the',0,len(text)))"
   ]
  },
  {
   "cell_type": "code",
   "execution_count": 6,
   "id": "9c670f19-2bf0-4772-b66d-5403eb7bf1df",
   "metadata": {},
   "outputs": [
    {
     "name": "stdout",
     "output_type": "stream",
     "text": [
      "True\n"
     ]
    }
   ],
   "source": [
    "text='india is my country'\n",
    "print(text.endswith('try',0,len(text)))"
   ]
  },
  {
   "cell_type": "code",
   "execution_count": 8,
   "id": "bd1bc137-c607-4fd4-9b97-be71cc2a354e",
   "metadata": {},
   "outputs": [
    {
     "name": "stdout",
     "output_type": "stream",
     "text": [
      "9\n"
     ]
    }
   ],
   "source": [
    "text='india is my country'\n",
    "print(text.find('my',0,len(text)))"
   ]
  },
  {
   "cell_type": "code",
   "execution_count": 18,
   "id": "58b9333d-e4ef-4154-96e5-6dd3b2791e77",
   "metadata": {},
   "outputs": [
    {
     "name": "stdout",
     "output_type": "stream",
     "text": [
      "12\n"
     ]
    }
   ],
   "source": [
    "text='india is my country'\n",
    "print(text.rfind('cou',0,len(text)))"
   ]
  },
  {
   "cell_type": "code",
   "execution_count": 28,
   "id": "a81904ab-c838-4389-8d79-3573d0fed0d9",
   "metadata": {},
   "outputs": [
    {
     "name": "stdout",
     "output_type": "stream",
     "text": [
      "12\n"
     ]
    }
   ],
   "source": [
    "text='india is my country'\n",
    "print(text.rfind('cou',0,len(text)))"
   ]
  },
  {
   "cell_type": "code",
   "execution_count": 29,
   "id": "16c23d06-bf71-4663-88af-8479b6980b50",
   "metadata": {},
   "outputs": [
    {
     "name": "stdout",
     "output_type": "stream",
     "text": [
      "hello*****\n"
     ]
    }
   ],
   "source": [
    "str='hello'\n",
    "print(str.ljust(10,'*'))"
   ]
  },
  {
   "cell_type": "code",
   "execution_count": 30,
   "id": "e250275a-7016-4b83-81ed-37e84f825609",
   "metadata": {},
   "outputs": [
    {
     "name": "stdout",
     "output_type": "stream",
     "text": [
      "*****hello\n"
     ]
    }
   ],
   "source": [
    "str='hello'\n",
    "print(str.rjust(10,'*'))"
   ]
  },
  {
   "cell_type": "code",
   "execution_count": 32,
   "id": "3e203f57-bdec-4ad5-a047-55c8c46e6e3d",
   "metadata": {},
   "outputs": [
    {
     "name": "stdout",
     "output_type": "stream",
     "text": [
      "     hello\n"
     ]
    }
   ],
   "source": [
    "str='hello'\n",
    "print(str.rjust(10,' '))"
   ]
  },
  {
   "cell_type": "code",
   "execution_count": 1,
   "id": "967e4918-16ff-46a1-bdbe-faf99811eb82",
   "metadata": {},
   "outputs": [
    {
     "name": "stdout",
     "output_type": "stream",
     "text": [
      "0006\n"
     ]
    }
   ],
   "source": [
    "str='6'\n",
    "print(str.zfill(4))"
   ]
  },
  {
   "cell_type": "code",
   "execution_count": 2,
   "id": "2a6af43f-f20b-4211-bb42-7887244f4268",
   "metadata": {},
   "outputs": [
    {
     "name": "stdout",
     "output_type": "stream",
     "text": [
      "z\n"
     ]
    }
   ],
   "source": [
    "str='Buzz'\n",
    "print(max(str))"
   ]
  },
  {
   "cell_type": "code",
   "execution_count": 3,
   "id": "f353d578-d8fe-440c-83cc-5114d05baa6b",
   "metadata": {},
   "outputs": [
    {
     "name": "stdout",
     "output_type": "stream",
     "text": [
      "B\n"
     ]
    }
   ],
   "source": [
    "str='Buzz'\n",
    "print(min(str))"
   ]
  },
  {
   "cell_type": "code",
   "execution_count": 4,
   "id": "d0171270-b76b-4674-b069-53c6c4ff1998",
   "metadata": {},
   "outputs": [
    {
     "name": "stdout",
     "output_type": "stream",
     "text": [
      "pollo pollo\n"
     ]
    }
   ],
   "source": [
    "str='hello hello'\n",
    "print(str.replace('he','po'))"
   ]
  },
  {
   "cell_type": "code",
   "execution_count": 11,
   "id": "68093f13-e8ac-4948-be0f-e2e9b65b2010",
   "metadata": {},
   "outputs": [
    {
     "name": "stdout",
     "output_type": "stream",
     "text": [
      "dfasdfasdf\n"
     ]
    }
   ],
   "source": [
    "str='asdfasdfasdf'\n",
    "print(str.strip('as'))"
   ]
  },
  {
   "cell_type": "code",
   "execution_count": 13,
   "id": "e04c7922-4ea0-40a9-b6ea-75b11254b2a7",
   "metadata": {},
   "outputs": [
    {
     "name": "stdout",
     "output_type": "stream",
     "text": [
      "sANNITHA tELLIBOINA\n"
     ]
    }
   ],
   "source": [
    "str='Sannitha Telliboina'\n",
    "print(str.swapcase())"
   ]
  },
  {
   "cell_type": "code",
   "execution_count": 18,
   "id": "d8ede2ab-e927-48b6-91a1-d6c64c3bc8dd",
   "metadata": {},
   "outputs": [
    {
     "name": "stdout",
     "output_type": "stream",
     "text": [
      "['radha,ramana']\n"
     ]
    }
   ],
   "source": [
    "str='radha,ramana'\n",
    "print(str.split())"
   ]
  },
  {
   "cell_type": "code",
   "execution_count": 23,
   "id": "1446f4f6-79bc-4000-8fe7-8748df5a512c",
   "metadata": {},
   "outputs": [
    {
     "name": "stdout",
     "output_type": "stream",
     "text": [
      "sanjay-leela-bansali\n"
     ]
    }
   ],
   "source": [
    "str='sanjay','leela','bansali'\n",
    "print('-'.join(['sanjay','leela','bansali']))"
   ]
  },
  {
   "cell_type": "code",
   "execution_count": 24,
   "id": "08bf8cc1-7e7a-4c14-8a91-91fc8652118b",
   "metadata": {},
   "outputs": [
    {
     "name": "stdout",
     "output_type": "stream",
     "text": [
      "[(0, 'p'), (1, 'a'), (2, 'r'), (3, 'a'), (4, 'm'), (5, 'e'), (6, 's'), (7, 'h'), (8, 'w'), (9, 'a'), (10, 'r')]\n"
     ]
    }
   ],
   "source": [
    "str='parameshwar'\n",
    "print(list(enumerate(str)))"
   ]
  },
  {
   "cell_type": "code",
   "execution_count": 25,
   "id": "b191b93e-b093-4ece-8d00-ea815fc121fa",
   "metadata": {},
   "outputs": [
    {
     "name": "stdout",
     "output_type": "stream",
     "text": [
      "[(0, 'p'), (1, 'a'), (2, 't'), (3, 'h'), (4, 'i'), (5, ' '), (6, 'p'), (7, 'a'), (8, 'r'), (9, 'a'), (10, 'm'), (11, 'e'), (12, 's'), (13, 'h'), (14, 'w'), (15, 'a'), (16, 'r')]\n"
     ]
    }
   ],
   "source": [
    "str='pathi parameshwar'\n",
    "print(list(enumerate(str)))"
   ]
  },
  {
   "cell_type": "code",
   "execution_count": 27,
   "id": "11470e27-1eb1-4748-9286-35efe6d01e6c",
   "metadata": {},
   "outputs": [
    {
     "name": "stdout",
     "output_type": "stream",
     "text": [
      "114\n"
     ]
    }
   ],
   "source": [
    "print(ord('r'))"
   ]
  },
  {
   "cell_type": "code",
   "execution_count": 49,
   "id": "f7050fd8-a59c-4e91-b0e7-c532b7006869",
   "metadata": {},
   "outputs": [
    {
     "name": "stdout",
     "output_type": "stream",
     "text": [
      "m i s s i s s i p p i "
     ]
    }
   ],
   "source": [
    "str='mississippi'\n",
    "for i in str:\n",
    "    print(i,end=' ')"
   ]
  },
  {
   "cell_type": "code",
   "execution_count": 51,
   "id": "59e274f0-a106-4dc9-80a0-9e0c39420c3a",
   "metadata": {},
   "outputs": [
    {
     "name": "stdout",
     "output_type": "stream",
     "text": [
      "Aate\n",
      "Bate\n",
      "Cate\n",
      "Date\n"
     ]
    }
   ],
   "source": [
    "str1='ABCD'\n",
    "str2='ate'\n",
    "for i in str1:\n",
    "    output=(i+str2)\n",
    "    print(output)"
   ]
  },
  {
   "cell_type": "code",
   "execution_count": 68,
   "id": "98a52a8c-a144-46b9-8b5d-1689f9405ad7",
   "metadata": {},
   "outputs": [
    {
     "name": "stdin",
     "output_type": "stream",
     "text": [
      "enter msg danger\n",
      "key 1\n"
     ]
    },
    {
     "name": "stdout",
     "output_type": "stream",
     "text": [
      "DANGEREBOHFS\n"
     ]
    }
   ],
   "source": [
    "a=input(\"enter msg\")\n",
    "key=int(input(\"key\"))\n",
    "length=len(a)\n",
    "cipher=str\n",
    "for i in range(0,length):\n",
    "    cipher=cipher+chr(ord(cipher[i])+1)\n",
    "print(cipher)"
   ]
  },
  {
   "cell_type": "code",
   "execution_count": 5,
   "id": "5b70d701-1f30-4ff8-81a6-0b7f6045647d",
   "metadata": {},
   "outputs": [
    {
     "ename": "SyntaxError",
     "evalue": "invalid syntax. Perhaps you forgot a comma? (1574642935.py, line 3)",
     "output_type": "error",
     "traceback": [
      "\u001b[1;36m  Cell \u001b[1;32mIn[5], line 3\u001b[1;36m\u001b[0m\n\u001b[1;33m    s=input(HackerRank.com presents \"Pythonist 2\".)\u001b[0m\n\u001b[1;37m            ^\u001b[0m\n\u001b[1;31mSyntaxError\u001b[0m\u001b[1;31m:\u001b[0m invalid syntax. Perhaps you forgot a comma?\n"
     ]
    }
   ],
   "source": [
    "def swap_case():\n",
    "    if __name__=='__main__':\n",
    "        s=input(HackerRank.com presents \"Pythonist 2\".)\n",
    "        result=swap_case(s)\n",
    "        print(result)"
   ]
  },
  {
   "cell_type": "code",
   "execution_count": 6,
   "id": "a834f111-4f41-4c43-b151-3eee77c0d344",
   "metadata": {},
   "outputs": [
    {
     "name": "stdout",
     "output_type": "stream",
     "text": [
      "hACKERrANK.COM PRESENTS \"pYTHONIST 2\"\n"
     ]
    }
   ],
   "source": [
    "str='HackerRank.com presents \"Pythonist 2\"'\n",
    "print(str.swapcase())"
   ]
  },
  {
   "cell_type": "code",
   "execution_count": null,
   "id": "652bec56-efef-4f7b-bfe7-a10fc02df828",
   "metadata": {},
   "outputs": [],
   "source": []
  }
 ],
 "metadata": {
  "kernelspec": {
   "display_name": "Python 3 (ipykernel)",
   "language": "python",
   "name": "python3"
  },
  "language_info": {
   "codemirror_mode": {
    "name": "ipython",
    "version": 3
   },
   "file_extension": ".py",
   "mimetype": "text/x-python",
   "name": "python",
   "nbconvert_exporter": "python",
   "pygments_lexer": "ipython3",
   "version": "3.11.5"
  }
 },
 "nbformat": 4,
 "nbformat_minor": 5
}
