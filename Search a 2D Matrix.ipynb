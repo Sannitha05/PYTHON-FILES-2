{
 "cells": [
  {
   "cell_type": "code",
   "execution_count": 3,
   "id": "9f44b0f8",
   "metadata": {},
   "outputs": [
    {
     "ename": "NameError",
     "evalue": "name 'List' is not defined",
     "output_type": "error",
     "traceback": [
      "\u001b[1;31m---------------------------------------------------------------------------\u001b[0m",
      "\u001b[1;31mNameError\u001b[0m                                 Traceback (most recent call last)",
      "Cell \u001b[1;32mIn[3], line 14\u001b[0m\n\u001b[0;32m      1\u001b[0m \u001b[38;5;124;03m'''You are given an m x n integer matrix matrix with the following two properties:\u001b[39;00m\n\u001b[0;32m      2\u001b[0m \n\u001b[0;32m      3\u001b[0m \u001b[38;5;124;03mEach row is sorted in non-decreasing order.\u001b[39;00m\n\u001b[1;32m   (...)\u001b[0m\n\u001b[0;32m      6\u001b[0m \n\u001b[0;32m      7\u001b[0m \u001b[38;5;124;03mYou must write a solution in O(log(m * n)) time complexity.'''\u001b[39;00m\n\u001b[0;32m     13\u001b[0m \u001b[38;5;66;03m#code\u001b[39;00m\n\u001b[1;32m---> 14\u001b[0m \u001b[38;5;28;01mclass\u001b[39;00m \u001b[38;5;21;01mSolution\u001b[39;00m:\n\u001b[0;32m     15\u001b[0m     \u001b[38;5;28;01mdef\u001b[39;00m \u001b[38;5;21msearchMatrix\u001b[39m(\u001b[38;5;28mself\u001b[39m, matrix: List[List[\u001b[38;5;28mint\u001b[39m]], target: \u001b[38;5;28mint\u001b[39m) \u001b[38;5;241m-\u001b[39m\u001b[38;5;241m>\u001b[39m \u001b[38;5;28mbool\u001b[39m:\n\u001b[0;32m     16\u001b[0m         \u001b[38;5;28;01mfor\u001b[39;00m i \u001b[38;5;129;01min\u001b[39;00m \u001b[38;5;28mrange\u001b[39m(\u001b[38;5;28mlen\u001b[39m(matrix)):\n",
      "Cell \u001b[1;32mIn[3], line 15\u001b[0m, in \u001b[0;36mSolution\u001b[1;34m()\u001b[0m\n\u001b[0;32m     14\u001b[0m \u001b[38;5;28;01mclass\u001b[39;00m \u001b[38;5;21;01mSolution\u001b[39;00m:\n\u001b[1;32m---> 15\u001b[0m     \u001b[38;5;28;01mdef\u001b[39;00m \u001b[38;5;21msearchMatrix\u001b[39m(\u001b[38;5;28mself\u001b[39m, matrix: List[List[\u001b[38;5;28mint\u001b[39m]], target: \u001b[38;5;28mint\u001b[39m) \u001b[38;5;241m-\u001b[39m\u001b[38;5;241m>\u001b[39m \u001b[38;5;28mbool\u001b[39m:\n\u001b[0;32m     16\u001b[0m         \u001b[38;5;28;01mfor\u001b[39;00m i \u001b[38;5;129;01min\u001b[39;00m \u001b[38;5;28mrange\u001b[39m(\u001b[38;5;28mlen\u001b[39m(matrix)):\n\u001b[0;32m     17\u001b[0m             left\u001b[38;5;241m=\u001b[39m\u001b[38;5;241m0\u001b[39m\n",
      "\u001b[1;31mNameError\u001b[0m: name 'List' is not defined"
     ]
    }
   ],
   "source": [
    "'''You are given an m x n integer matrix matrix with the following two properties:\n",
    "\n",
    "Each row is sorted in non-decreasing order.\n",
    "The first integer of each row is greater than the last integer of the previous row.\n",
    "Given an integer target, return true if target is in matrix or false otherwise.\n",
    "\n",
    "You must write a solution in O(log(m * n)) time complexity.'''\n",
    "\n",
    "\n",
    "\n",
    "\n",
    "\n",
    "#code\n",
    "class Solution:\n",
    "    def searchMatrix(self, matrix: List[List[int]], target: int) -> bool:\n",
    "        for i in range(len(matrix)):\n",
    "            left=0\n",
    "            right=len(matrix[i])-1\n",
    "            while left<= right:\n",
    "                mid=left+(right-left)//2\n",
    "                if matrix[i][mid]==target:\n",
    "                    return True\n",
    "                elif matrix[i][mid]< target:\n",
    "                    left=mid+1\n",
    "                else:\n",
    "                    right=mid-1\n",
    "        return False\n",
    "    \n",
    "    \n",
    "matrix = eval(input())  \n",
    "target = int(input())\n",
    "\n",
    "sol = Solution()\n",
    "print(sol.searchMatrix(matrix, target))"
   ]
  },
  {
   "cell_type": "code",
   "execution_count": 1,
   "id": "f3caa84c",
   "metadata": {},
   "outputs": [
    {
     "name": "stdout",
     "output_type": "stream",
     "text": [
      "Found\n"
     ]
    }
   ],
   "source": [
    "def search_matrix(matrix, target):\n",
    "    for row in matrix:\n",
    "        left, right = 0, len(row) - 1\n",
    "        while left <= right:\n",
    "            mid = (left + right) // 2\n",
    "            if row[mid] == target:\n",
    "                return True\n",
    "            elif row[mid] < target:\n",
    "                left = mid + 1\n",
    "            else:\n",
    "                right = mid - 1\n",
    "    return False\n",
    "\n",
    "matrix = [\n",
    "    [1, 3, 5, 7],\n",
    "    [10, 11, 16, 20],\n",
    "    [23, 30, 34, 60]\n",
    "]\n",
    "\n",
    "target = 3\n",
    "\n",
    "found = search_matrix(matrix, target)\n",
    "print(\"Found\" if found else \"Not Found\")"
   ]
  },
  {
   "cell_type": "code",
   "execution_count": null,
   "id": "d4c74ecb",
   "metadata": {},
   "outputs": [],
   "source": []
  }
 ],
 "metadata": {
  "kernelspec": {
   "display_name": "Python 3 (ipykernel)",
   "language": "python",
   "name": "python3"
  },
  "language_info": {
   "codemirror_mode": {
    "name": "ipython",
    "version": 3
   },
   "file_extension": ".py",
   "mimetype": "text/x-python",
   "name": "python",
   "nbconvert_exporter": "python",
   "pygments_lexer": "ipython3",
   "version": "3.11.5"
  }
 },
 "nbformat": 4,
 "nbformat_minor": 5
}
