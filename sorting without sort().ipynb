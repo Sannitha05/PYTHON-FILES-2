{
 "cells": [
  {
   "cell_type": "code",
   "execution_count": 1,
   "id": "fc7674da",
   "metadata": {},
   "outputs": [
    {
     "name": "stdout",
     "output_type": "stream",
     "text": [
      "Enter a list of numbers separated by spaces: 2 77 43 100 65 22 597 223 5422 675 10034 6 11\n",
      "Sorted list: [2, 6, 11, 22, 43, 65, 77, 100, 223, 597, 675, 5422, 10034]\n"
     ]
    }
   ],
   "source": [
    "# for loop ascending\n",
    "def custom_sort(input_list):\n",
    "    n = len(input_list)\n",
    "    for i in range(n):\n",
    "        for j in range(0, n-i-1):\n",
    "            if input_list[j] > input_list[j+1]:\n",
    "                input_list[j], input_list[j+1] = input_list[j+1], input_list[j]\n",
    "input_list = input(\"Enter a list of numbers separated by spaces: \").split()\n",
    "input_list = [int(x) for x in input_list] \n",
    "custom_sort(input_list)\n",
    "\n",
    "print(\"Sorted list:\", input_list)"
   ]
  },
  {
   "cell_type": "code",
   "execution_count": 3,
   "id": "b59b61a1",
   "metadata": {},
   "outputs": [
    {
     "name": "stdout",
     "output_type": "stream",
     "text": [
      "Sorted list (descending order): [67455, 453, 432, 239, 60, 40, 12]\n"
     ]
    }
   ],
   "source": [
    "# for loop descending\n",
    "my_list = [432,12,453,67455,40,239,60]\n",
    "def custom_sort_descending(input_list):\n",
    "    n = len(input_list)\n",
    "    for i in range(n):\n",
    "        for j in range(0, n-i-1):\n",
    "            if input_list[j] < input_list[j+1]:\n",
    "                input_list[j], input_list[j+1] = input_list[j+1], input_list[j]\n",
    "custom_sort_descending(my_list)\n",
    "print(\"Sorted list (descending order):\", my_list)"
   ]
  },
  {
   "cell_type": "code",
   "execution_count": 4,
   "id": "16428f46",
   "metadata": {},
   "outputs": [
    {
     "name": "stdout",
     "output_type": "stream",
     "text": [
      "Sorted list (ascending): [5, 12, 23, 432, 444, 511, 768, 768, 997, 1223, 233543]\n"
     ]
    }
   ],
   "source": [
    "# while loop ascending order\n",
    "arr = [12,444,5,233543,768,23,1223,432,511,768,997]\n",
    "sorted_arr = []\n",
    "while arr:\n",
    "    minimum = min(arr)\n",
    "    sorted_arr.append(minimum)\n",
    "    arr = arr[:arr.index(minimum)] + arr[arr.index(minimum) + 1:]\n",
    "print(\"Sorted list (ascending):\", sorted_arr)"
   ]
  },
  {
   "cell_type": "code",
   "execution_count": 7,
   "id": "9732d9da",
   "metadata": {},
   "outputs": [
    {
     "name": "stdout",
     "output_type": "stream",
     "text": [
      "Sorted list (descending order): [90, 64, 34, 25, 22, 12, 11]\n"
     ]
    }
   ],
   "source": [
    "# while loop descending \n",
    "my_list_descending = [64, 34, 25, 12, 22, 11, 90]\n",
    "def custom_sort_descending(input_list):\n",
    "    n = len(input_list)\n",
    "    i = 0\n",
    "    while i < n:\n",
    "        j = 0\n",
    "        while j < n - 1:\n",
    "            if input_list[j] < input_list[j + 1]:\n",
    "                input_list[j], input_list[j + 1] = input_list[j + 1], input_list[j]\n",
    "            j += 1\n",
    "        i += 1\n",
    "custom_sort_descending(my_list_descending)\n",
    "print(\"Sorted list (descending order):\", my_list_descending)"
   ]
  },
  {
   "cell_type": "code",
   "execution_count": 8,
   "id": "d0239917",
   "metadata": {},
   "outputs": [
    {
     "name": "stdout",
     "output_type": "stream",
     "text": [
      "Sorted list (ascending): [11, 12, 22, 25, 34, 64, 90]\n"
     ]
    }
   ],
   "source": [
    "# slicing ascending\n",
    "arr = [64, 34, 25, 12, 22, 11, 90]\n",
    "sorted_arr = []\n",
    "while arr:\n",
    "    minimum = min(arr)\n",
    "    sorted_arr.append(minimum)\n",
    "    arr = arr[:arr.index(minimum)] + arr[arr.index(minimum) + 1:]\n",
    "print(\"Sorted list (ascending):\", sorted_arr)"
   ]
  },
  {
   "cell_type": "code",
   "execution_count": 9,
   "id": "2f35cb48",
   "metadata": {},
   "outputs": [
    {
     "name": "stdout",
     "output_type": "stream",
     "text": [
      "Enter a list of numbers separated by spaces: 23 1223 89 64739 300 27849 45 32 99 475666\n",
      "Sorted list (descending): [475666, 64739, 27849, 1223, 300, 99, 89, 45, 32, 23]\n"
     ]
    }
   ],
   "source": [
    "# slicing descending\n",
    "input_list = input(\"Enter a list of numbers separated by spaces: \").split()\n",
    "input_list = [int(x) for x in input_list] \n",
    "sorted_list = []\n",
    "while input_list:\n",
    "    maximum = max(input_list)\n",
    "    sorted_list.append(maximum)\n",
    "    input_list = input_list[:input_list.index(maximum)] + input_list[input_list.index(maximum) + 1:]\n",
    "print(\"Sorted list (descending):\", sorted_list)"
   ]
  },
  {
   "cell_type": "code",
   "execution_count": 10,
   "id": "d07c41f9",
   "metadata": {},
   "outputs": [
    {
     "name": "stdout",
     "output_type": "stream",
     "text": [
      "Sorted list (ascending): [11, 12, 22, 25, 34, 64, 90]\n"
     ]
    }
   ],
   "source": [
    "# pop method ascending\n",
    "arr = [64, 34, 25, 12, 22, 11, 90]\n",
    "sorted_arr = []\n",
    "while arr:\n",
    "    minimum = min(arr)\n",
    "    sorted_arr.append(minimum)\n",
    "    arr.pop(arr.index(minimum))\n",
    "print(\"Sorted list (ascending):\", sorted_arr)"
   ]
  },
  {
   "cell_type": "code",
   "execution_count": 11,
   "id": "dd67baad",
   "metadata": {},
   "outputs": [
    {
     "name": "stdout",
     "output_type": "stream",
     "text": [
      "Enter a list of numbers separated by spaces: 23 555 1 98 4567 982234 16 34 8888 54\n",
      "Sorted list (descending): [982234, 8888, 4567, 555, 98, 54, 34, 23, 16, 1]\n"
     ]
    }
   ],
   "source": [
    "# pop method descending\n",
    "input_list = input(\"Enter a list of numbers separated by spaces: \").split()\n",
    "input_list = [int(x) for x in input_list]\n",
    "sorted_list = []\n",
    "while input_list:\n",
    "    maximum = max(input_list) \n",
    "    sorted_list.append(maximum)\n",
    "    input_list.pop(input_list.index(maximum))\n",
    "print(\"Sorted list (descending):\", sorted_list)"
   ]
  },
  {
   "cell_type": "code",
   "execution_count": 5,
   "id": "27dc0d14",
   "metadata": {},
   "outputs": [
    {
     "name": "stdout",
     "output_type": "stream",
     "text": [
      "Enter a list of numbers or strings: 23 1 3334 12 656 343 86546 3245 4543 2 112 56 8\n",
      "Sorted list (ascending): [1, 2, 8, 12, 23, 56, 112, 343, 656, 3245, 3334, 4543, 86546]\n"
     ]
    }
   ],
   "source": [
    "\n",
    "arr = input(\"Enter a list of numbers or strings: \").split()\n",
    "arr = list(map(int, arr))\n",
    "\n",
    "sorted_arr = []\n",
    "\n",
    "while arr:\n",
    "    minimum = min(arr)  \n",
    "    sorted_arr.append(minimum)  \n",
    "    arr.remove(minimum)\n",
    "print(\"Sorted list (ascending):\", sorted_arr)\n"
   ]
  },
  {
   "cell_type": "code",
   "execution_count": null,
   "id": "f656c73f",
   "metadata": {},
   "outputs": [],
   "source": []
  }
 ],
 "metadata": {
  "kernelspec": {
   "display_name": "Python 3 (ipykernel)",
   "language": "python",
   "name": "python3"
  },
  "language_info": {
   "codemirror_mode": {
    "name": "ipython",
    "version": 3
   },
   "file_extension": ".py",
   "mimetype": "text/x-python",
   "name": "python",
   "nbconvert_exporter": "python",
   "pygments_lexer": "ipython3",
   "version": "3.11.5"
  }
 },
 "nbformat": 4,
 "nbformat_minor": 5
}
