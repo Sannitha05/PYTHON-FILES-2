{
 "cells": [
  {
   "cell_type": "code",
   "execution_count": 8,
   "id": "be1e0b0c",
   "metadata": {},
   "outputs": [
    {
     "name": "stdout",
     "output_type": "stream",
     "text": [
      "81\n",
      "9\n"
     ]
    }
   ],
   "source": [
    "#OPT = Binary Search\n",
    "class Solution:\n",
    "    def mySqrt(self, n: int) -> int:\n",
    "        if n <= 0:\n",
    "            return 0\n",
    "\n",
    "        l, r = 1, n\n",
    "        sqrt = 0\n",
    "        while l <= r:\n",
    "            mid = (l + r) // 2\n",
    "            if mid * mid > n:\n",
    "                r = mid - 1\n",
    "            else:\n",
    "                sqrt = mid\n",
    "                l = mid + 1\n",
    "        return sqrt\n",
    "\n",
    "\n",
    "n = int(input())\n",
    "sol = Solution()\n",
    "result = sol.mySqrt(n)\n",
    "print(result)\n"
   ]
  },
  {
   "cell_type": "code",
   "execution_count": 7,
   "id": "c35b1054",
   "metadata": {},
   "outputs": [
    {
     "name": "stdout",
     "output_type": "stream",
     "text": [
      "2489\n",
      "49\n"
     ]
    }
   ],
   "source": [
    "#OPT = Binary Search\n",
    "class Solution:\n",
    "    def mySqrt(self, n: int) -> int:\n",
    "        if n <= 0:\n",
    "            return 0\n",
    "\n",
    "        l, r = 1, n\n",
    "        sqrt = 0\n",
    "        while l <= r:\n",
    "            mid = (l + r) // 2\n",
    "            if mid * mid > n:\n",
    "                r = mid - 1\n",
    "            else:\n",
    "                sqrt = mid\n",
    "                l = mid + 1\n",
    "        return sqrt\n",
    "\n",
    "\n",
    "n = int(input())\n",
    "sol = Solution()\n",
    "result = sol.mySqrt(n)\n",
    "print(result)\n"
   ]
  },
  {
   "cell_type": "code",
   "execution_count": 6,
   "id": "972bd654",
   "metadata": {},
   "outputs": [
    {
     "name": "stdout",
     "output_type": "stream",
     "text": [
      "345\n",
      "18\n"
     ]
    }
   ],
   "source": [
    "#OPT = Binary Search\n",
    "class Solution:\n",
    "    def mySqrt(self, n: int) -> int:\n",
    "        if n <= 0:\n",
    "            return 0\n",
    "\n",
    "        l, r = 1, n\n",
    "        sqrt = 0\n",
    "        while l <= r:\n",
    "            mid = (l + r) // 2\n",
    "            if mid * mid > n:\n",
    "                r = mid - 1\n",
    "            else:\n",
    "                sqrt = mid\n",
    "                l = mid + 1\n",
    "        return sqrt\n",
    "\n",
    "n = int(input())\n",
    "sol = Solution()\n",
    "result = sol.mySqrt(n)\n",
    "print(result)\n"
   ]
  },
  {
   "cell_type": "code",
   "execution_count": 4,
   "id": "184a78c7",
   "metadata": {},
   "outputs": [
    {
     "name": "stdout",
     "output_type": "stream",
     "text": [
      "14\n",
      "3\n"
     ]
    }
   ],
   "source": [
    "#OPT = Binary Search\n",
    "class Solution:\n",
    "    def mySqrt(self, n: int) -> int:\n",
    "        if n <= 0:\n",
    "            return 0\n",
    "\n",
    "        l, r = 1, n\n",
    "        sqrt = 0\n",
    "        while l <= r:\n",
    "            mid = (l + r) // 2\n",
    "            if mid * mid > n:\n",
    "                r = mid - 1\n",
    "            else:\n",
    "                sqrt = mid\n",
    "                l = mid + 1\n",
    "        return sqrt\n",
    "\n",
    "if __name__ == \"__main__\":\n",
    "    n = int(input())\n",
    "    sol = Solution()\n",
    "    result = sol.mySqrt(n)\n",
    "    print(result)\n"
   ]
  },
  {
   "cell_type": "code",
   "execution_count": 10,
   "id": "a238a58b",
   "metadata": {},
   "outputs": [
    {
     "name": "stdout",
     "output_type": "stream",
     "text": [
      "34\n",
      "5\n"
     ]
    }
   ],
   "source": [
    "#OPT = Binary Search\n",
    "class Solution:\n",
    "    def mySqrt(self, n: int) -> int:\n",
    "        if n <= 0:\n",
    "            return 0\n",
    "\n",
    "        l, r = 1, n\n",
    "        sqrt = 0\n",
    "        while l <= r:\n",
    "            mid = (l + r) // 2\n",
    "            if mid * mid > n:\n",
    "                r = mid - 1\n",
    "            else:\n",
    "                sqrt = mid\n",
    "                l = mid + 1\n",
    "        return sqrt\n",
    "\n",
    "\n",
    "n = int(input())\n",
    "sol = Solution()\n",
    "result = sol.mySqrt(n)\n",
    "print(result)\n"
   ]
  },
  {
   "cell_type": "code",
   "execution_count": 2,
   "id": "320f1843",
   "metadata": {},
   "outputs": [
    {
     "name": "stdout",
     "output_type": "stream",
     "text": [
      "8\n",
      "2\n"
     ]
    }
   ],
   "source": [
    "#Brute force\n",
    "class Solution:\n",
    "    def mySqrt(self, n: int) -> int:\n",
    "        if n <= 0:\n",
    "            return 0\n",
    "        \n",
    "        i = 1\n",
    "        while i * i <= n:\n",
    "            i += 1\n",
    "        return i - 1\n",
    "    \n",
    "n = int(input())\n",
    "solution = Solution()\n",
    "print(solution.mySqrt(n))"
   ]
  },
  {
   "cell_type": "code",
   "execution_count": 3,
   "id": "ab4ec0a8",
   "metadata": {},
   "outputs": [
    {
     "name": "stdout",
     "output_type": "stream",
     "text": [
      "4\n",
      "2\n"
     ]
    }
   ],
   "source": [
    "#Brute force\n",
    "class Solution:\n",
    "    def mySqrt(self, n: int) -> int:\n",
    "        if n <= 0:\n",
    "            return 0\n",
    "        \n",
    "        i = 1\n",
    "        while i * i <= n:\n",
    "            i += 1\n",
    "        return i - 1\n",
    "    \n",
    "n = int(input())\n",
    "solution = Solution()\n",
    "print(solution.mySqrt(n))"
   ]
  },
  {
   "cell_type": "code",
   "execution_count": 4,
   "id": "16df61d5",
   "metadata": {},
   "outputs": [
    {
     "name": "stdout",
     "output_type": "stream",
     "text": [
      "16\n",
      "4\n"
     ]
    }
   ],
   "source": [
    "#Brute force\n",
    "class Solution:\n",
    "    def mySqrt(self, n: int) -> int:\n",
    "        if n <= 0:\n",
    "            return 0\n",
    "        \n",
    "        i = 1\n",
    "        while i * i <= n:\n",
    "            i += 1\n",
    "        return i - 1\n",
    "    \n",
    "n = int(input())\n",
    "solution = Solution()\n",
    "print(solution.mySqrt(n))"
   ]
  },
  {
   "cell_type": "code",
   "execution_count": 3,
   "id": "3e609a7f",
   "metadata": {},
   "outputs": [
    {
     "name": "stdout",
     "output_type": "stream",
     "text": [
      "16\n",
      "4\n"
     ]
    }
   ],
   "source": [
    "#Brute force\n",
    "\n",
    "def mySqrt( n ):\n",
    "    if n <= 0:\n",
    "        return 0\n",
    "    i = 1\n",
    "    while i * i <= n:\n",
    "        i += 1\n",
    "    return i - 1\n",
    "    \n",
    "n = int(input())\n",
    "print(mySqrt(n))"
   ]
  },
  {
   "cell_type": "code",
   "execution_count": null,
   "id": "7e8265de",
   "metadata": {},
   "outputs": [],
   "source": []
  }
 ],
 "metadata": {
  "kernelspec": {
   "display_name": "Python 3 (ipykernel)",
   "language": "python",
   "name": "python3"
  },
  "language_info": {
   "codemirror_mode": {
    "name": "ipython",
    "version": 3
   },
   "file_extension": ".py",
   "mimetype": "text/x-python",
   "name": "python",
   "nbconvert_exporter": "python",
   "pygments_lexer": "ipython3",
   "version": "3.11.5"
  }
 },
 "nbformat": 4,
 "nbformat_minor": 5
}
