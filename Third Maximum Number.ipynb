{
 "cells": [
  {
   "cell_type": "code",
   "execution_count": 1,
   "id": "d6a98276",
   "metadata": {},
   "outputs": [
    {
     "name": "stdout",
     "output_type": "stream",
     "text": [
      "Enter numbers: 3 6 5\n",
      "3\n"
     ]
    }
   ],
   "source": [
    "'''414. Third Maximum Number\n",
    "Solved\n",
    "Easy\n",
    "Topics\n",
    "premium lock icon\n",
    "Companies\n",
    "Given an integer array nums, return the third distinct maximum number in this array. If the third maximum does not exist, return the maximum number.\n",
    "\n",
    " \n",
    "\n",
    "Example 1:\n",
    "\n",
    "Input: nums = [3,2,1]\n",
    "Output: 1\n",
    "Explanation:\n",
    "The first distinct maximum is 3.\n",
    "The second distinct maximum is 2.\n",
    "The third distinct maximum is 1.\n",
    "Example 2:\n",
    "\n",
    "Input: nums = [1,2]\n",
    "Output: 2\n",
    "Explanation:\n",
    "The first distinct maximum is 2.\n",
    "The second distinct maximum is 1.\n",
    "The third distinct maximum does not exist, so the maximum (2) is returned instead.\n",
    "Example 3:\n",
    "\n",
    "Input: nums = [2,2,3,1]\n",
    "Output: 1\n",
    "Explanation:\n",
    "The first distinct maximum is 3.\n",
    "The second distinct maximum is 2 (both 2's are counted together since they have the same value).\n",
    "The third distinct maximum is 1.\n",
    " \n",
    "\n",
    "Constraints:\n",
    "\n",
    "1 <= nums.length <= 104\n",
    "-231 <= nums[i] <= 231 - 1\n",
    " '''\n",
    "\n",
    "#code\n",
    "class Solution(object):\n",
    "    def thirdMax(self, nums):\n",
    "        nums = list(set(nums))  \n",
    "        \n",
    "        if len(nums) < 3:\n",
    "            return max(nums)\n",
    "        \n",
    "        nums.sort(reverse=True)  \n",
    "        return nums[2]  \n",
    "\n",
    "nums = list(map(int, input(\"Enter numbers: \").split()))\n",
    "print(Solution().thirdMax(nums))"
   ]
  },
  {
   "cell_type": "code",
   "execution_count": 2,
   "id": "5f54d05d",
   "metadata": {},
   "outputs": [
    {
     "name": "stdout",
     "output_type": "stream",
     "text": [
      "Enter numbers: 1 2 2 3\n",
      "1\n"
     ]
    }
   ],
   "source": [
    "class Solution(object):\n",
    "    def thirdMax(self, nums):\n",
    "        nums = list(set(nums))  \n",
    "        \n",
    "        if len(nums) < 3:\n",
    "            return max(nums)\n",
    "        \n",
    "        nums.sort(reverse=True)  \n",
    "        return nums[2]  \n",
    "\n",
    "nums = list(map(int, input(\"Enter numbers: \").split()))\n",
    "print(Solution().thirdMax(nums))"
   ]
  },
  {
   "cell_type": "code",
   "execution_count": null,
   "id": "03cdb094",
   "metadata": {},
   "outputs": [],
   "source": []
  }
 ],
 "metadata": {
  "kernelspec": {
   "display_name": "Python 3 (ipykernel)",
   "language": "python",
   "name": "python3"
  },
  "language_info": {
   "codemirror_mode": {
    "name": "ipython",
    "version": 3
   },
   "file_extension": ".py",
   "mimetype": "text/x-python",
   "name": "python",
   "nbconvert_exporter": "python",
   "pygments_lexer": "ipython3",
   "version": "3.11.5"
  }
 },
 "nbformat": 4,
 "nbformat_minor": 5
}
