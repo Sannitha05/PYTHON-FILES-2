{
 "cells": [
  {
   "cell_type": "code",
   "execution_count": 2,
   "id": "000c6f42",
   "metadata": {},
   "outputs": [
    {
     "name": "stdout",
     "output_type": "stream",
     "text": [
      "Enter numbers separated by space: 3 892 23 45 2328 54 23\n",
      "Sorted array: [3, 23, 23, 45, 54, 892, 2328]\n"
     ]
    }
   ],
   "source": [
    "class Solution:\n",
    "    def sortArray(self, nums):\n",
    "        self.quick(nums, 0, len(nums) - 1)\n",
    "        return nums\n",
    "\n",
    "    def quick(self, nums, low, high):\n",
    "        if low >= high:\n",
    "            return\n",
    "        \n",
    "        s, e = low, high\n",
    "        mid = (s + e) // 2\n",
    "        pivot = nums[mid]\n",
    "\n",
    "        while s <= e:\n",
    "            while nums[s] < pivot:\n",
    "                s += 1\n",
    "            while nums[e] > pivot:\n",
    "                e -= 1\n",
    "            if s <= e:\n",
    "                nums[s], nums[e] = nums[e], nums[s]\n",
    "                s += 1\n",
    "                e -= 1\n",
    "\n",
    "        self.quick(nums, low, e)\n",
    "        self.quick(nums, s, high)\n",
    "\n",
    "\n",
    "solution = Solution()\n",
    "nums = list(map(int, input(\"Enter numbers separated by space: \").split()))\n",
    "print(\"Sorted array:\", solution.sortArray(nums))"
   ]
  },
  {
   "cell_type": "code",
   "execution_count": null,
   "id": "76c31ec5",
   "metadata": {},
   "outputs": [],
   "source": []
  }
 ],
 "metadata": {
  "kernelspec": {
   "display_name": "Python 3 (ipykernel)",
   "language": "python",
   "name": "python3"
  },
  "language_info": {
   "codemirror_mode": {
    "name": "ipython",
    "version": 3
   },
   "file_extension": ".py",
   "mimetype": "text/x-python",
   "name": "python",
   "nbconvert_exporter": "python",
   "pygments_lexer": "ipython3",
   "version": "3.11.5"
  }
 },
 "nbformat": 4,
 "nbformat_minor": 5
}
