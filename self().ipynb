{
 "cells": [
  {
   "cell_type": "code",
   "execution_count": 1,
   "id": "971fe20c",
   "metadata": {},
   "outputs": [
    {
     "name": "stdout",
     "output_type": "stream",
     "text": [
      "My name is Sannitha and I'm 20 years old.\n"
     ]
    }
   ],
   "source": [
    "class Details:\n",
    "    name = \"Sannitha\"\n",
    "    age = 20\n",
    "\n",
    "    def desc(self):\n",
    "        print(\"My name is\", self.name, \"and I'm\", self.age, \"years old.\")\n",
    "\n",
    "obj1 = Details()\n",
    "obj1.desc()"
   ]
  },
  {
   "cell_type": "code",
   "execution_count": null,
   "id": "297fa87a",
   "metadata": {},
   "outputs": [],
   "source": []
  }
 ],
 "metadata": {
  "kernelspec": {
   "display_name": "Python 3 (ipykernel)",
   "language": "python",
   "name": "python3"
  },
  "language_info": {
   "codemirror_mode": {
    "name": "ipython",
    "version": 3
   },
   "file_extension": ".py",
   "mimetype": "text/x-python",
   "name": "python",
   "nbconvert_exporter": "python",
   "pygments_lexer": "ipython3",
   "version": "3.11.5"
  }
 },
 "nbformat": 4,
 "nbformat_minor": 5
}
