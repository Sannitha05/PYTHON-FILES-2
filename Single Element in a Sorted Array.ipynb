{
 "cells": [
  {
   "cell_type": "code",
   "execution_count": 4,
   "id": "c667754f",
   "metadata": {},
   "outputs": [
    {
     "name": "stdout",
     "output_type": "stream",
     "text": [
      "1 1 2 2 3 4 4 5 5 6 6\n",
      "3\n"
     ]
    }
   ],
   "source": [
    "#Optimized Binary Search\n",
    "\n",
    "from typing import List\n",
    "\n",
    "class Solution:\n",
    "    def singleNonDuplicate(self, nums: List[int]) -> int:\n",
    "        left, right = 0, len(nums) - 1\n",
    "        while left < right:\n",
    "            mid = (left + right) // 2\n",
    "            if mid % 2 == 1:\n",
    "                mid -= 1\n",
    "            if nums[mid] != nums[mid + 1]:\n",
    "                right = mid\n",
    "            else:\n",
    "                left = mid + 2\n",
    "        return nums[left]\n",
    "\n",
    "nums = list(map(int, input().split()))\n",
    "sol = Solution()\n",
    "print(sol.singleNonDuplicate(nums))\n"
   ]
  },
  {
   "cell_type": "code",
   "execution_count": 5,
   "id": "0efea037",
   "metadata": {},
   "outputs": [
    {
     "name": "stdout",
     "output_type": "stream",
     "text": [
      "1 1 2 2 3 3 4 4 5 6 6 7 7\n",
      "5\n"
     ]
    }
   ],
   "source": [
    "#Brute force\n",
    "\n",
    "from typing import List\n",
    "\n",
    "class Solution:\n",
    "    def singleNonDuplicate(self, nums: List[int]) -> int:\n",
    "        for i in nums:\n",
    "            if nums.count(i) == 1:\n",
    "                return i\n",
    "\n",
    "nums = list(map(int, input().split()))\n",
    "sol = Solution()\n",
    "print(sol.singleNonDuplicate(nums))\n"
   ]
  },
  {
   "cell_type": "code",
   "execution_count": null,
   "id": "ef8244a1",
   "metadata": {},
   "outputs": [],
   "source": []
  }
 ],
 "metadata": {
  "kernelspec": {
   "display_name": "Python 3 (ipykernel)",
   "language": "python",
   "name": "python3"
  },
  "language_info": {
   "codemirror_mode": {
    "name": "ipython",
    "version": 3
   },
   "file_extension": ".py",
   "mimetype": "text/x-python",
   "name": "python",
   "nbconvert_exporter": "python",
   "pygments_lexer": "ipython3",
   "version": "3.11.5"
  }
 },
 "nbformat": 4,
 "nbformat_minor": 5
}
