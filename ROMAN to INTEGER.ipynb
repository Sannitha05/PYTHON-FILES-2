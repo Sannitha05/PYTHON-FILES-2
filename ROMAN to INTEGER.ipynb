{
 "cells": [
  {
   "cell_type": "code",
   "execution_count": 3,
   "id": "66b5ed68",
   "metadata": {},
   "outputs": [
    {
     "name": "stdout",
     "output_type": "stream",
     "text": [
      "Integer form of Roman Numeral is\n",
      "4000\n"
     ]
    }
   ],
   "source": [
    "# Python program to convert Roman \n",
    "# Numerals to Numbers\n",
    "\n",
    "# This function returns value of \n",
    "# each Roman symbol\n",
    "def value(r):\n",
    "    if (r == 'I'):\n",
    "        return 1\n",
    "    if (r == 'V'):\n",
    "        return 5\n",
    "    if (r == 'X'):\n",
    "        return 10\n",
    "    if (r == 'L'):\n",
    "        return 50\n",
    "    if (r == 'C'):\n",
    "        return 100\n",
    "    if (r == 'D'):\n",
    "        return 500\n",
    "    if (r == 'M'):\n",
    "        return 1000\n",
    "    return -1\n",
    "\n",
    "def romanToDecimal(str):\n",
    "    res = 0\n",
    "    i = 0\n",
    "\n",
    "    while (i < len(str)):\n",
    "        s1 = value(str[i])\n",
    "\n",
    "        if (i + 1 < len(str)):\n",
    "            s2 = value(str[i + 1])\n",
    "            if (s1 >= s2):\n",
    "                res = res + s1\n",
    "                i = i + 1\n",
    "            else:\n",
    "                res = res + s2 - s1\n",
    "                i = i + 2\n",
    "        else:\n",
    "            res = res + s1\n",
    "            i = i + 1\n",
    "\n",
    "    return res\n",
    "print(\"Integer form of Roman Numeral is\"),\n",
    "print(romanToDecimal(\"MMMM\"))"
   ]
  },
  {
   "cell_type": "code",
   "execution_count": null,
   "id": "d27380c4",
   "metadata": {},
   "outputs": [],
   "source": []
  }
 ],
 "metadata": {
  "kernelspec": {
   "display_name": "Python 3 (ipykernel)",
   "language": "python",
   "name": "python3"
  },
  "language_info": {
   "codemirror_mode": {
    "name": "ipython",
    "version": 3
   },
   "file_extension": ".py",
   "mimetype": "text/x-python",
   "name": "python",
   "nbconvert_exporter": "python",
   "pygments_lexer": "ipython3",
   "version": "3.11.5"
  }
 },
 "nbformat": 4,
 "nbformat_minor": 5
}
