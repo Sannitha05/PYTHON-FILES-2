{
 "cells": [
  {
   "cell_type": "code",
   "execution_count": 10,
   "id": "4b9a4644",
   "metadata": {},
   "outputs": [
    {
     "name": "stdout",
     "output_type": "stream",
     "text": [
      "[13, 321, 381, 943, 655, 152, 773]\n"
     ]
    }
   ],
   "source": [
    "class TreeNode:\n",
    "    def __init__(self, val=0, left=None, right=None):\n",
    "        self.val = val\n",
    "        self.left = left\n",
    "        self.right = right\n",
    "\n",
    "class Solution:\n",
    "    def preorderTraversal(self, root):\n",
    "        ans = []\n",
    "        self.preorder(root, ans)\n",
    "        return ans\n",
    "\n",
    "    def preorder(self, root, ans) -> None:\n",
    "        if not root:\n",
    "            return\n",
    "        ans.append(root.val)  # Visit the root node first\n",
    "        self.preorder(root.left, ans)\n",
    "        self.preorder(root.right, ans)\n",
    "\n",
    "root = TreeNode(13)\n",
    "root.left = TreeNode(321)\n",
    "root.right = TreeNode(655)\n",
    "root.left.left = TreeNode(381)\n",
    "root.left.right = TreeNode(943)\n",
    "root.right.left = TreeNode(152)\n",
    "root.right.right = TreeNode(773)\n",
    "\n",
    "solution = Solution()\n",
    "result = solution.preorderTraversal(root)\n",
    "print(result)"
   ]
  },
  {
   "cell_type": "code",
   "execution_count": 11,
   "id": "3be33352",
   "metadata": {},
   "outputs": [
    {
     "name": "stdout",
     "output_type": "stream",
     "text": [
      "[1, 2, 4, 3]\n"
     ]
    }
   ],
   "source": [
    "class TreeNode:\n",
    "    def __init__(self, val=0, left=None, right=None):\n",
    "        self.val = val\n",
    "        self.left = left\n",
    "        self.right = right\n",
    "\n",
    "class Solution:\n",
    "    def preorderTraversal(self, root):\n",
    "        ans = []\n",
    "        self.preorder(root, ans)\n",
    "        return ans\n",
    "\n",
    "    def preorder(self, root, ans) -> None:\n",
    "        if not root:\n",
    "            return\n",
    "        ans.append(root.val)  # Visit the root node first\n",
    "        self.preorder(root.left, ans)\n",
    "        self.preorder(root.right, ans)\n",
    "\n",
    "root = TreeNode(1)\n",
    "root.left = TreeNode(2)\n",
    "root.right = TreeNode(3)\n",
    "root.left.left = TreeNode(4)\n",
    "\n",
    "\n",
    "solution = Solution()\n",
    "result = solution.preorderTraversal(root)\n",
    "print(result)"
   ]
  },
  {
   "cell_type": "code",
   "execution_count": 9,
   "id": "1297b025",
   "metadata": {},
   "outputs": [
    {
     "name": "stdout",
     "output_type": "stream",
     "text": [
      "[32, 21, 81, 93, 65, 52, 77]\n"
     ]
    }
   ],
   "source": [
    "class TreeNode:\n",
    "    def __init__(self, val=0, left=None, right=None):\n",
    "        self.val = val\n",
    "        self.left = left\n",
    "        self.right = right\n",
    "\n",
    "class Solution:\n",
    "    def preorderTraversal(self, root):\n",
    "        ans = []\n",
    "        self.preorder(root, ans)\n",
    "        return ans\n",
    "\n",
    "    def preorder(self, root, ans) -> None:\n",
    "        if not root:\n",
    "            return\n",
    "        ans.append(root.val)  # Visit the root node first\n",
    "        self.preorder(root.left, ans)\n",
    "        self.preorder(root.right, ans)\n",
    "\n",
    "root = TreeNode(32)\n",
    "root.left = TreeNode(21)\n",
    "root.right = TreeNode(65)\n",
    "root.left.left = TreeNode(81)\n",
    "root.left.right = TreeNode(93)\n",
    "root.right.left = TreeNode(52)\n",
    "root.right.right = TreeNode(77)\n",
    "\n",
    "solution = Solution()\n",
    "result = solution.preorderTraversal(root)\n",
    "print(result)"
   ]
  },
  {
   "cell_type": "code",
   "execution_count": null,
   "id": "bbc9e765",
   "metadata": {},
   "outputs": [],
   "source": []
  }
 ],
 "metadata": {
  "kernelspec": {
   "display_name": "Python 3 (ipykernel)",
   "language": "python",
   "name": "python3"
  },
  "language_info": {
   "codemirror_mode": {
    "name": "ipython",
    "version": 3
   },
   "file_extension": ".py",
   "mimetype": "text/x-python",
   "name": "python",
   "nbconvert_exporter": "python",
   "pygments_lexer": "ipython3",
   "version": "3.11.5"
  }
 },
 "nbformat": 4,
 "nbformat_minor": 5
}
