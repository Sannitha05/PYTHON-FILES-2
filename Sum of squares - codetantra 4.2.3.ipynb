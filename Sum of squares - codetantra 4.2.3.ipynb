{
 "cells": [
  {
   "cell_type": "code",
   "execution_count": 1,
   "id": "4398c5ac",
   "metadata": {},
   "outputs": [
    {
     "name": "stdout",
     "output_type": "stream",
     "text": [
      "25\n",
      "1\n"
     ]
    }
   ],
   "source": [
    "def sum_of_squares(c):\n",
    "    a = 0\n",
    "    while a * a <= c:\n",
    "        b = c - a * a\n",
    "        b_root = 0\n",
    "        while b_root * b_root < b:\n",
    "            b_root += 1\n",
    "        if b_root * b_root == b:\n",
    "            return 1\n",
    "        a += 1\n",
    "    return 0\n",
    "\n",
    "c = int(input())\n",
    "print(sum_of_squares(c))\n"
   ]
  },
  {
   "cell_type": "code",
   "execution_count": 2,
   "id": "f7be7f73",
   "metadata": {},
   "outputs": [
    {
     "name": "stdout",
     "output_type": "stream",
     "text": [
      "5\n",
      "1\n"
     ]
    }
   ],
   "source": [
    "def sum_of_squares(c):\n",
    "    a = 0\n",
    "    while a * a <= c:\n",
    "        b = c - a * a\n",
    "        b_root = 0\n",
    "        while b_root * b_root < b:\n",
    "            b_root += 1\n",
    "        if b_root * b_root == b:\n",
    "            return 1\n",
    "        a += 1\n",
    "    return 0\n",
    "\n",
    "c = int(input())\n",
    "print(sum_of_squares(c))\n"
   ]
  },
  {
   "cell_type": "code",
   "execution_count": 3,
   "id": "24968b16",
   "metadata": {},
   "outputs": [
    {
     "name": "stdout",
     "output_type": "stream",
     "text": [
      "5\n",
      "1\n"
     ]
    }
   ],
   "source": [
    "def sum_of_squares(c):\n",
    "    a = 0\n",
    "    b = c\n",
    "    while a * a <= b * b:\n",
    "        curr = a * a + b * b\n",
    "        if curr == c:\n",
    "            return 1\n",
    "        elif curr < c:\n",
    "            a += 1\n",
    "        else:\n",
    "            b -= 1\n",
    "    return 0\n",
    "\n",
    "c = int(input())\n",
    "print(sum_of_squares(c))\n"
   ]
  },
  {
   "cell_type": "code",
   "execution_count": null,
   "id": "e5b8c601",
   "metadata": {},
   "outputs": [],
   "source": []
  }
 ],
 "metadata": {
  "kernelspec": {
   "display_name": "Python 3 (ipykernel)",
   "language": "python",
   "name": "python3"
  },
  "language_info": {
   "codemirror_mode": {
    "name": "ipython",
    "version": 3
   },
   "file_extension": ".py",
   "mimetype": "text/x-python",
   "name": "python",
   "nbconvert_exporter": "python",
   "pygments_lexer": "ipython3",
   "version": "3.11.5"
  }
 },
 "nbformat": 4,
 "nbformat_minor": 5
}
