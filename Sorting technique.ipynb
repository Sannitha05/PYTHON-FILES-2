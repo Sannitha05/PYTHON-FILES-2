{
 "cells": [
  {
   "cell_type": "code",
   "execution_count": 1,
   "id": "5e0a3148",
   "metadata": {},
   "outputs": [
    {
     "name": "stdout",
     "output_type": "stream",
     "text": [
      "Enter a list of numbers: 3 12 4567 23 1325 56\n",
      "Sorted list: [3, 12, 23, 56, 1325, 4567]\n"
     ]
    }
   ],
   "source": [
    "def custom_sort(input_list):\n",
    "    n = len(input_list)\n",
    "    for i in range(n):\n",
    "        for j in range(0, n-i-1):\n",
    "            if input_list[j] > input_list[j+1]:\n",
    "                input_list[j], input_list[j+1] = input_list[j+1], input_list[j]\n",
    "input_list = input(\"Enter a list of numbers: \").split()\n",
    "input_list = [int(x) for x in input_list] \n",
    "custom_sort(input_list)\n",
    "\n",
    "print(\"Sorted list:\", input_list)"
   ]
  },
  {
   "cell_type": "code",
   "execution_count": null,
   "id": "409936c2",
   "metadata": {},
   "outputs": [],
   "source": []
  }
 ],
 "metadata": {
  "kernelspec": {
   "display_name": "Python 3 (ipykernel)",
   "language": "python",
   "name": "python3"
  },
  "language_info": {
   "codemirror_mode": {
    "name": "ipython",
    "version": 3
   },
   "file_extension": ".py",
   "mimetype": "text/x-python",
   "name": "python",
   "nbconvert_exporter": "python",
   "pygments_lexer": "ipython3",
   "version": "3.11.5"
  }
 },
 "nbformat": 4,
 "nbformat_minor": 5
}
