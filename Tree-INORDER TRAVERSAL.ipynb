{
 "cells": [
  {
   "cell_type": "code",
   "execution_count": 7,
   "id": "006be6b6",
   "metadata": {},
   "outputs": [
    {
     "name": "stdout",
     "output_type": "stream",
     "text": [
      "[81, 21, 93, 32, 52, 65, 77]\n"
     ]
    }
   ],
   "source": [
    "# Definition for a binary tree node.\n",
    "class TreeNode:\n",
    "    def __init__(self, val=0, left=None, right=None):\n",
    "        self.val = val\n",
    "        self.left = left\n",
    "        self.right = right\n",
    "\n",
    "class Solution:\n",
    "    def inorderTraversal(self, root):\n",
    "        \n",
    "        ans = []\n",
    "        \n",
    "        def inorder(root) -> None:\n",
    "           \n",
    "            if not root:\n",
    "                return\n",
    "            inorder(root.left)\n",
    "            ans.append(root.val)\n",
    "            inorder(root.right)\n",
    "        \n",
    "        inorder(root)\n",
    "        return ans\n",
    "\n",
    "root = TreeNode(32)\n",
    "root.left = TreeNode(21)\n",
    "root.right = TreeNode(65)\n",
    "root.left.left = TreeNode(81)\n",
    "root.left.right = TreeNode(93)\n",
    "root.right.left = TreeNode(52)\n",
    "root.right.right = TreeNode(77)\n",
    "\n",
    "solution = Solution()\n",
    "result = solution.inorderTraversal(root)\n",
    "print(result)  "
   ]
  },
  {
   "cell_type": "code",
   "execution_count": 6,
   "id": "02d27a01",
   "metadata": {},
   "outputs": [
    {
     "name": "stdout",
     "output_type": "stream",
     "text": [
      "[1, 2, 3, 4, 5, 6, 7]\n"
     ]
    }
   ],
   "source": [
    "# Definition for a binary tree node.\n",
    "class TreeNode:\n",
    "    def __init__(self, val=0, left=None, right=None):\n",
    "        self.val = val\n",
    "        self.left = left\n",
    "        self.right = right\n",
    "\n",
    "class Solution:\n",
    "    def inorderTraversal(self, root):\n",
    "        \n",
    "        ans = []\n",
    "        \n",
    "        def inorder(root) -> None:\n",
    "           \n",
    "            if not root:\n",
    "                return\n",
    "            inorder(root.left)\n",
    "            ans.append(root.val)\n",
    "            inorder(root.right)\n",
    "        \n",
    "        inorder(root)\n",
    "        return ans\n",
    "\n",
    "root = TreeNode(4)\n",
    "root.left = TreeNode(2)\n",
    "root.right = TreeNode(6)\n",
    "root.left.left = TreeNode(1)\n",
    "root.left.right = TreeNode(3)\n",
    "root.right.left = TreeNode(5)\n",
    "root.right.right = TreeNode(7)\n",
    "\n",
    "solution = Solution()\n",
    "result = solution.inorderTraversal(root)\n",
    "print(result)  "
   ]
  },
  {
   "cell_type": "code",
   "execution_count": null,
   "id": "5f4505cd",
   "metadata": {},
   "outputs": [],
   "source": []
  }
 ],
 "metadata": {
  "kernelspec": {
   "display_name": "Python 3 (ipykernel)",
   "language": "python",
   "name": "python3"
  },
  "language_info": {
   "codemirror_mode": {
    "name": "ipython",
    "version": 3
   },
   "file_extension": ".py",
   "mimetype": "text/x-python",
   "name": "python",
   "nbconvert_exporter": "python",
   "pygments_lexer": "ipython3",
   "version": "3.11.5"
  }
 },
 "nbformat": 4,
 "nbformat_minor": 5
}
