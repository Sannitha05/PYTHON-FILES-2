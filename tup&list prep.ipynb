{
 "cells": [
  {
   "cell_type": "code",
   "execution_count": 1,
   "id": "6965f14c",
   "metadata": {},
   "outputs": [
    {
     "name": "stdout",
     "output_type": "stream",
     "text": [
      "<class 'list'>\n"
     ]
    }
   ],
   "source": [
    "l=[1,2,'hi','sanny']\n",
    "print(type())"
   ]
  },
  {
   "cell_type": "code",
   "execution_count": 1,
   "id": "b8598865",
   "metadata": {},
   "outputs": [
    {
     "name": "stdout",
     "output_type": "stream",
     "text": [
      "<class 'list'>\n",
      "[1, 2, 'hi', 'sanny']\n"
     ]
    }
   ],
   "source": [
    "l=[1,2,'hi','sanny']\n",
    "print(type(l))\n",
    "print(l)"
   ]
  },
  {
   "cell_type": "code",
   "execution_count": 6,
   "id": "f9f77b9c",
   "metadata": {},
   "outputs": [
    {
     "name": "stdout",
     "output_type": "stream",
     "text": [
      "<class 'list'>\n",
      "['sanny']\n",
      "[1, 2]\n",
      "[1, 2, 'hi', 'sanny', 1, 2, 'hi', 'sanny']\n",
      "[1, 2, 'hi', 'sanny', 1, 2, 'hi', 'sanny', 1, 2, 'hi', 'sanny']\n"
     ]
    }
   ],
   "source": [
    "l=[1,2,'hi','sanny']\n",
    "print(type(l))\n",
    "print(l[3:])\n",
    "print(l[0:2])\n",
    "print(l+l)\n",
    "print(l*3)"
   ]
  },
  {
   "cell_type": "code",
   "execution_count": null,
   "id": "4dfd4a53",
   "metadata": {},
   "outputs": [],
   "source": []
  }
 ],
 "metadata": {
  "kernelspec": {
   "display_name": "Python 3 (ipykernel)",
   "language": "python",
   "name": "python3"
  },
  "language_info": {
   "codemirror_mode": {
    "name": "ipython",
    "version": 3
   },
   "file_extension": ".py",
   "mimetype": "text/x-python",
   "name": "python",
   "nbconvert_exporter": "python",
   "pygments_lexer": "ipython3",
   "version": "3.11.5"
  }
 },
 "nbformat": 4,
 "nbformat_minor": 5
}
