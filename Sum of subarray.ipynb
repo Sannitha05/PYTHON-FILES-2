{
 "cells": [
  {
   "cell_type": "code",
   "execution_count": 1,
   "id": "bed8f916",
   "metadata": {},
   "outputs": [
    {
     "name": "stdout",
     "output_type": "stream",
     "text": [
      "2 3 5 -2 7 -4\n",
      "sum of subarray: 29\n"
     ]
    }
   ],
   "source": [
    "#Maximum subarray\n",
    "\n",
    "def sum_of_subarray(arr):\n",
    "    n = len(arr)\n",
    "    total_sum = 0\n",
    "    for i in range(n):\n",
    "        current_max = arr[i]\n",
    "        for j in range(i,n):\n",
    "            current_max = max(current_max , arr[j])\n",
    "            total_sum += current_max\n",
    "        return total_sum\n",
    "\n",
    "arr = list(map(int,input().split()))\n",
    "print(\"sum of subarray:\",sum_of_subarray(arr))"
   ]
  },
  {
   "cell_type": "code",
   "execution_count": 2,
   "id": "e7d05914",
   "metadata": {},
   "outputs": [
    {
     "name": "stdout",
     "output_type": "stream",
     "text": [
      "2 3 5 -2 7 -4\n",
      "sum of subarray: 15\n"
     ]
    }
   ],
   "source": [
    "# Maximum subarray\n",
    "\n",
    "def sum_of_subarray(arr):\n",
    "    n = len(arr)\n",
    "    max_sum = arr[0]\n",
    "    current_sum = arr[0]\n",
    "\n",
    "    for i in range(1, n):\n",
    "        current_sum = max(arr[i], current_sum + arr[i])\n",
    "        max_sum = max(max_sum, current_sum)\n",
    "    \n",
    "    return max_sum\n",
    "\n",
    "arr = list(map(int, input().split()))\n",
    "print(\"sum of subarray:\", sum_of_subarray(arr))\n"
   ]
  },
  {
   "cell_type": "code",
   "execution_count": 3,
   "id": "1d291beb",
   "metadata": {},
   "outputs": [
    {
     "name": "stdout",
     "output_type": "stream",
     "text": [
      "2 3 5 -2 7 -4\n",
      "sum of subarray: 15\n"
     ]
    }
   ],
   "source": [
    "\n",
    "\n",
    "def sum_of_subarray(arr):\n",
    "    n = len(arr)\n",
    "    max_sum = arr[0]  \n",
    "\n",
    "    for i in range(n):\n",
    "        current_sum = 0\n",
    "        for j in range(i, n):\n",
    "            current_sum += arr[j]       \n",
    "            max_sum = max(max_sum, current_sum)  \n",
    "\n",
    "    return max_sum\n",
    "\n",
    "arr = list(map(int, input().split()))\n",
    "print(\"sum of subarray:\", sum_of_subarray(arr))\n",
    "\n",
    "\n",
    "\n",
    "\n",
    "\n",
    "\n",
    "# time : O(n**2)\n",
    "#space : O(1)"
   ]
  },
  {
   "cell_type": "code",
   "execution_count": null,
   "id": "0591ec98",
   "metadata": {},
   "outputs": [],
   "source": []
  }
 ],
 "metadata": {
  "kernelspec": {
   "display_name": "Python 3 (ipykernel)",
   "language": "python",
   "name": "python3"
  },
  "language_info": {
   "codemirror_mode": {
    "name": "ipython",
    "version": 3
   },
   "file_extension": ".py",
   "mimetype": "text/x-python",
   "name": "python",
   "nbconvert_exporter": "python",
   "pygments_lexer": "ipython3",
   "version": "3.11.5"
  }
 },
 "nbformat": 4,
 "nbformat_minor": 5
}
