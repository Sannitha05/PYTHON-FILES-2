{
 "cells": [
  {
   "cell_type": "code",
   "execution_count": 3,
   "id": "0e8ec8a4",
   "metadata": {},
   "outputs": [
    {
     "name": "stdout",
     "output_type": "stream",
     "text": [
      "Enter the list: 4 5 6 7 0 1 2\n",
      "Enter the target: 0\n",
      "4\n"
     ]
    }
   ],
   "source": [
    "class Solution:\n",
    "    def search(self, nums, target):\n",
    "        left, right = 0, len(nums) - 1\n",
    "\n",
    "        while left <= right:\n",
    "            mid = (left + right) // 2\n",
    "\n",
    "            if nums[mid] == target:\n",
    "                return mid\n",
    "\n",
    "            if nums[left] <= nums[mid]:\n",
    "                if nums[left] <= target < nums[mid]:\n",
    "                    right = mid - 1\n",
    "                else:\n",
    "                    left = mid + 1\n",
    "            else:\n",
    "                if nums[mid] < target <= nums[right]:\n",
    "                    left = mid + 1\n",
    "                else:\n",
    "                    right = mid - 1\n",
    "\n",
    "        return -1\n",
    "\n",
    "\n",
    "nums = list(map(int, input(\"Enter the list: \").split()))\n",
    "target = int(input(\"Enter the target: \"))\n",
    "\n",
    "sol = Solution()\n",
    "\n",
    "print(sol.search(nums, target))\n"
   ]
  },
  {
   "cell_type": "code",
   "execution_count": null,
   "id": "a7f3c27d",
   "metadata": {},
   "outputs": [],
   "source": [
    "#linear search\n",
    "class Solution:\n",
    "    def search(nums):\n",
    "        for i in range(len(nums)):\n",
    "            if nums[i] == target:\n",
    "                return i\n",
    "        return -i\n"
   ]
  }
 ],
 "metadata": {
  "kernelspec": {
   "display_name": "Python 3 (ipykernel)",
   "language": "python",
   "name": "python3"
  },
  "language_info": {
   "codemirror_mode": {
    "name": "ipython",
    "version": 3
   },
   "file_extension": ".py",
   "mimetype": "text/x-python",
   "name": "python",
   "nbconvert_exporter": "python",
   "pygments_lexer": "ipython3",
   "version": "3.11.5"
  }
 },
 "nbformat": 4,
 "nbformat_minor": 5
}
