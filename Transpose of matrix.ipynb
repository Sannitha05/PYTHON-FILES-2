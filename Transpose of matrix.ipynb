{
 "cells": [
  {
   "cell_type": "code",
   "execution_count": 2,
   "id": "13bf7b2d",
   "metadata": {},
   "outputs": [
    {
     "name": "stdout",
     "output_type": "stream",
     "text": [
      "Result matrix is\n",
      "1  2  3  4  \n",
      "1  2  3  4  \n",
      "1  2  3  4  \n",
      "1  2  3  4  \n"
     ]
    }
   ],
   "source": [
    "N = 4 \n",
    "def transpose(A, B): \n",
    "    for i in range(N): \n",
    "        for j in range(N): \n",
    "            B[i][j] = A[j][i] \n",
    "            \n",
    "            \n",
    "if __name__ == '__main__': \n",
    "    A = [[1, 1, 1, 1], [2, 2, 2, 2], [3, 3, 3, 3], [4, 4, 4, 4]] \n",
    "    B = [[0 for x in range(N)] for y in range(N)] \n",
    "transpose(A, B) \n",
    "\n",
    "\n",
    "print(\"Result matrix is\") \n",
    "\n",
    "for i in range(N): \n",
    "    for j in range(N): \n",
    "        print(B[i][j], \" \", end='') \n",
    "        \n",
    "    print() "
   ]
  },
  {
   "cell_type": "code",
   "execution_count": 4,
   "id": "c3ce6118",
   "metadata": {
    "scrolled": true
   },
   "outputs": [
    {
     "name": "stdout",
     "output_type": "stream",
     "text": [
      "Result matrix is\n",
      "11  12  13  14  \n",
      "21  22  23  24  \n",
      "31  32  33  34  \n",
      "41  42  43  44  \n"
     ]
    }
   ],
   "source": [
    "# Python3 Program to find \n",
    "# transpose of a matrix \n",
    "\n",
    "N = 4 \n",
    "\n",
    "\n",
    "def transpose(A, B): \n",
    "\n",
    "    for i in range(N): \n",
    "        for j in range(N): \n",
    "            B[i][j] = A[j][i] \n",
    "\n",
    "\n",
    "# Driver code \n",
    "if __name__ == '__main__': \n",
    "    A = [[11,21,31,41], [12,22,32,42], [13, 23, 33, 43], [14, 24, 34, 44]] \n",
    "    B = [[0 for x in range(N)] for y in range(N)] \n",
    "transpose(A, B) \n",
    "\n",
    "print(\"Result matrix is\") \n",
    "for i in range(N): \n",
    "    for j in range(N): \n",
    "        print(B[i][j], \" \", end='') \n",
    "    print() \n"
   ]
  },
  {
   "cell_type": "code",
   "execution_count": null,
   "id": "cb0a930c",
   "metadata": {},
   "outputs": [],
   "source": []
  }
 ],
 "metadata": {
  "kernelspec": {
   "display_name": "Python 3 (ipykernel)",
   "language": "python",
   "name": "python3"
  },
  "language_info": {
   "codemirror_mode": {
    "name": "ipython",
    "version": 3
   },
   "file_extension": ".py",
   "mimetype": "text/x-python",
   "name": "python",
   "nbconvert_exporter": "python",
   "pygments_lexer": "ipython3",
   "version": "3.11.5"
  }
 },
 "nbformat": 4,
 "nbformat_minor": 5
}
