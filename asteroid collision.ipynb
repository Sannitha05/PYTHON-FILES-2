{
 "cells": [
  {
   "cell_type": "code",
   "execution_count": 1,
   "id": "78233ba9",
   "metadata": {},
   "outputs": [
    {
     "name": "stdout",
     "output_type": "stream",
     "text": [
      "5 10 -5\n",
      "[5, 10]\n"
     ]
    }
   ],
   "source": [
    "def asteroidCollision(asteroids):\n",
    "    stack = []\n",
    "    for asteroid in asteroids:\n",
    "        while stack and asteroid < 0 and stack[-1] > 0:\n",
    "            collision = stack[-1] + asteroid\n",
    "            if collision < 0:  \n",
    "                stack.pop()\n",
    "            elif collision > 0: \n",
    "                asteroid = 0  \n",
    "                break\n",
    "            else: \n",
    "                stack.pop()\n",
    "                asteroid = 0  \n",
    "                break\n",
    "        if asteroid != 0:\n",
    "            stack.append(asteroid)\n",
    "    return stack\n",
    "\n",
    "asteroids = list(map(int,input().split()))\n",
    "print(asteroidCollision(asteroids))"
   ]
  },
  {
   "cell_type": "code",
   "execution_count": 2,
   "id": "228cdafc",
   "metadata": {},
   "outputs": [
    {
     "name": "stdout",
     "output_type": "stream",
     "text": [
      "8 -8\n",
      "[]\n"
     ]
    }
   ],
   "source": [
    "def asteroidCollision(asteroids):\n",
    "    stack = []\n",
    "    for asteroid in asteroids:\n",
    "        while stack and asteroid < 0 and stack[-1] > 0:\n",
    "            collision = stack[-1] + asteroid\n",
    "            if collision < 0:  \n",
    "                stack.pop()\n",
    "            elif collision > 0: \n",
    "                asteroid = 0  \n",
    "                break\n",
    "            else: \n",
    "                stack.pop()\n",
    "                asteroid = 0  \n",
    "                break\n",
    "        if asteroid != 0:\n",
    "            stack.append(asteroid)\n",
    "    return stack\n",
    "\n",
    "asteroids = list(map(int,input().split()))\n",
    "print(asteroidCollision(asteroids))"
   ]
  },
  {
   "cell_type": "code",
   "execution_count": 3,
   "id": "fd181948",
   "metadata": {},
   "outputs": [
    {
     "name": "stdout",
     "output_type": "stream",
     "text": [
      "10 2 -5\n",
      "[10]\n"
     ]
    }
   ],
   "source": [
    "def asteroidCollision(asteroids):\n",
    "    stack = []\n",
    "    for asteroid in asteroids:\n",
    "        while stack and asteroid < 0 and stack[-1] > 0:\n",
    "            collision = stack[-1] + asteroid\n",
    "            if collision < 0:  \n",
    "                stack.pop()\n",
    "            elif collision > 0: \n",
    "                asteroid = 0  \n",
    "                break\n",
    "            else: \n",
    "                stack.pop()\n",
    "                asteroid = 0  \n",
    "                break\n",
    "        if asteroid != 0:\n",
    "            stack.append(asteroid)\n",
    "    return stack\n",
    "\n",
    "asteroids = list(map(int,input().split()))\n",
    "print(asteroidCollision(asteroids))"
   ]
  },
  {
   "cell_type": "code",
   "execution_count": null,
   "id": "0bb3c6ff",
   "metadata": {},
   "outputs": [],
   "source": []
  }
 ],
 "metadata": {
  "kernelspec": {
   "display_name": "Python 3 (ipykernel)",
   "language": "python",
   "name": "python3"
  },
  "language_info": {
   "codemirror_mode": {
    "name": "ipython",
    "version": 3
   },
   "file_extension": ".py",
   "mimetype": "text/x-python",
   "name": "python",
   "nbconvert_exporter": "python",
   "pygments_lexer": "ipython3",
   "version": "3.11.5"
  }
 },
 "nbformat": 4,
 "nbformat_minor": 5
}
