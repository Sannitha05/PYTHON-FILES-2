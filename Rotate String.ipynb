{
 "cells": [
  {
   "cell_type": "code",
   "execution_count": 1,
   "id": "38cde3b0",
   "metadata": {},
   "outputs": [
    {
     "name": "stdout",
     "output_type": "stream",
     "text": [
      "abcde\n",
      "cdeab\n",
      "True\n"
     ]
    }
   ],
   "source": [
    " def rotateString(s, goal):\n",
    "        for i in range(len(s)):\n",
    "            s = s[1::] + s[0]\n",
    "            if s == goal:\n",
    "                return True\n",
    "        return False\n",
    "    \n",
    "s = input()\n",
    "goal = input()\n",
    "result = rotateString(s,goal)\n",
    "\n",
    "print(result)"
   ]
  },
  {
   "cell_type": "code",
   "execution_count": 3,
   "id": "bbf9b000",
   "metadata": {},
   "outputs": [
    {
     "name": "stdout",
     "output_type": "stream",
     "text": [
      "abcde\n",
      "abced\n",
      "False\n"
     ]
    }
   ],
   "source": [
    " def rotateString(s, goal):\n",
    "        for i in range(len(s)):\n",
    "            s = s[1::] + s[0]\n",
    "            if s == goal:\n",
    "                return True\n",
    "        return False\n",
    "    \n",
    "s = input()\n",
    "goal = input()\n",
    "result = rotateString(s,goal)\n",
    "\n",
    "print(result)"
   ]
  },
  {
   "cell_type": "code",
   "execution_count": null,
   "id": "0732befa",
   "metadata": {},
   "outputs": [],
   "source": []
  }
 ],
 "metadata": {
  "kernelspec": {
   "display_name": "Python 3 (ipykernel)",
   "language": "python",
   "name": "python3"
  },
  "language_info": {
   "codemirror_mode": {
    "name": "ipython",
    "version": 3
   },
   "file_extension": ".py",
   "mimetype": "text/x-python",
   "name": "python",
   "nbconvert_exporter": "python",
   "pygments_lexer": "ipython3",
   "version": "3.11.5"
  }
 },
 "nbformat": 4,
 "nbformat_minor": 5
}
