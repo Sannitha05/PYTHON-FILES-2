{
 "cells": [
  {
   "cell_type": "code",
   "execution_count": 3,
   "id": "1340f56e",
   "metadata": {},
   "outputs": [
    {
     "name": "stdout",
     "output_type": "stream",
     "text": [
      "Enter a number: 23\n",
      "Is ugly number? False\n"
     ]
    }
   ],
   "source": [
    "'''An ugly number is a positive integer which does not have a prime factor other than 2, 3, and 5.\n",
    "\n",
    "Given an integer n, return true if n is an ugly number.\n",
    "\n",
    " \n",
    "\n",
    "Example 1:\n",
    "\n",
    "Input: n = 6\n",
    "Output: true\n",
    "Explanation: 6 = 2 × 3\n",
    "Example 2:\n",
    "\n",
    "Input: n = 1\n",
    "Output: true\n",
    "Explanation: 1 has no prime factors.\n",
    "Example 3:\n",
    "\n",
    "Input: n = 14\n",
    "Output: false\n",
    "Explanation: 14 is not ugly since it includes the prime factor 7.\n",
    " \n",
    "\n",
    "Constraints:\n",
    "\n",
    "-231 <= n <= 231 - 1'''\n",
    "\n",
    "\n",
    "\n",
    "class Solution:\n",
    "    def isUgly(self, n: int) -> bool:\n",
    "        if n <= 0:\n",
    "            return False\n",
    "        if n == 1:\n",
    "            return True\n",
    "        while n > 0:\n",
    "            if n % 2 == 0:\n",
    "                n = n // 2\n",
    "            elif n % 3 == 0:\n",
    "                n = n // 3\n",
    "            elif n % 5 == 0:\n",
    "                n = n // 5\n",
    "            else:\n",
    "                break\n",
    "        return n == 1\n",
    "\n",
    "num = int(input(\"Enter a number: \"))\n",
    "sol = Solution()\n",
    "print(\"Is ugly number?\", sol.isUgly(num))\n"
   ]
  },
  {
   "cell_type": "code",
   "execution_count": 2,
   "id": "5df48a04",
   "metadata": {},
   "outputs": [
    {
     "name": "stdout",
     "output_type": "stream",
     "text": [
      "Enter a number: 5\n",
      "Is ugly number? True\n"
     ]
    }
   ],
   "source": [
    "class Solution:\n",
    "    def isUgly(self, n: int) -> bool:\n",
    "        if n <= 0:\n",
    "            return False\n",
    "        for p in [2, 3, 5]:\n",
    "            while n % p == 0:\n",
    "                n = n // p\n",
    "        return n == 1\n",
    "\n",
    "n = int(input(\"Enter a number: \"))\n",
    "sol = Solution()\n",
    "print(\"Is ugly number?\", sol.isUgly(n))\n"
   ]
  },
  {
   "cell_type": "code",
   "execution_count": null,
   "id": "04ba09de",
   "metadata": {},
   "outputs": [],
   "source": []
  }
 ],
 "metadata": {
  "kernelspec": {
   "display_name": "Python 3 (ipykernel)",
   "language": "python",
   "name": "python3"
  },
  "language_info": {
   "codemirror_mode": {
    "name": "ipython",
    "version": 3
   },
   "file_extension": ".py",
   "mimetype": "text/x-python",
   "name": "python",
   "nbconvert_exporter": "python",
   "pygments_lexer": "ipython3",
   "version": "3.11.5"
  }
 },
 "nbformat": 4,
 "nbformat_minor": 5
}
