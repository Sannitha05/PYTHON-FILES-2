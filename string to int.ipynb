{
 "cells": [
  {
   "cell_type": "code",
   "execution_count": 1,
   "id": "ae5c7a16",
   "metadata": {},
   "outputs": [],
   "source": [
    "class Solution:\n",
    "    def myAtoi(self, s: str) -> int:\n",
    "        i, n = 0, len(s)\n",
    "        sign, result = 1, 0\n",
    "\n",
    "       \n",
    "        while i < n and s[i] == ' ':\n",
    "            i += 1\n",
    "\n",
    "       \n",
    "        if i < n and s[i] in ['+', '-']:\n",
    "            sign = -1 if s[i] == '-' else 1\n",
    "            i += 1\n",
    "\n",
    "       \n",
    "        while i < n and s[i].isdigit():\n",
    "            digit = int(s[i])\n",
    "\n",
    "            \n",
    "            if result > (2**31 - 1) // 10 or (result == (2**31 - 1) // 10 and digit > 7):\n",
    "                return 2**31 - 1 if sign == 1 else -2**31\n",
    "\n",
    "            result = result * 10 + digit\n",
    "            i += 1\n",
    "\n",
    "        return sign * result\n"
   ]
  },
  {
   "cell_type": "code",
   "execution_count": null,
   "id": "436bd97f",
   "metadata": {},
   "outputs": [],
   "source": []
  }
 ],
 "metadata": {
  "kernelspec": {
   "display_name": "Python 3 (ipykernel)",
   "language": "python",
   "name": "python3"
  },
  "language_info": {
   "codemirror_mode": {
    "name": "ipython",
    "version": 3
   },
   "file_extension": ".py",
   "mimetype": "text/x-python",
   "name": "python",
   "nbconvert_exporter": "python",
   "pygments_lexer": "ipython3",
   "version": "3.11.5"
  }
 },
 "nbformat": 4,
 "nbformat_minor": 5
}
