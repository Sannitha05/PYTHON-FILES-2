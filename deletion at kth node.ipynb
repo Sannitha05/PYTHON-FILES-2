{
 "cells": [
  {
   "cell_type": "code",
   "execution_count": 7,
   "id": "3e309f96",
   "metadata": {},
   "outputs": [
    {
     "name": "stdout",
     "output_type": "stream",
     "text": [
      "3\n",
      "1 2 3\n",
      "2\n",
      "1 3 \n"
     ]
    }
   ],
   "source": [
    "class Node:\n",
    "    def __init__(self, data):\n",
    "        self.data = data\n",
    "        self.next = None\n",
    "\n",
    "def create_linked_list(arr):\n",
    "    if not arr:\n",
    "        return None\n",
    "    head = Node(arr[0])\n",
    "    curr = head\n",
    "    for val in arr[1:]:\n",
    "        curr.next = Node(val)\n",
    "        curr = curr.next\n",
    "    return head\n",
    "\n",
    "def delete_kth_node(head, k):\n",
    "    if not head:\n",
    "        return None\n",
    "\n",
    "    if k == 1:\n",
    "        return head.next\n",
    "\n",
    "    current = head\n",
    "    count = 1\n",
    "    while current and count < k - 1:\n",
    "        current = current.next\n",
    "        count += 1\n",
    "\n",
    "    if not current or not current.next:\n",
    "        print(f\"Position {k} is out of bounds. No deletion performed.\")\n",
    "        return head\n",
    "\n",
    "    current.next = current.next.next\n",
    "    return head\n",
    "\n",
    "def print_linked_list(head):\n",
    "    curr = head\n",
    "    while curr:\n",
    "        print(curr.data, end=\" \")\n",
    "        curr = curr.next\n",
    "    print()\n",
    "\n",
    "arr_input = input().strip()\n",
    "arr = list(map(int, input().split()))\n",
    "k = int(input())\n",
    "\n",
    "head = create_linked_list(arr)\n",
    "head = delete_kth_node(head, k)\n",
    "\n",
    "print_linked_list(head)\n"
   ]
  },
  {
   "cell_type": "code",
   "execution_count": 8,
   "id": "f83ffdae",
   "metadata": {},
   "outputs": [
    {
     "name": "stdout",
     "output_type": "stream",
     "text": [
      "3\n",
      "3 4 5\n",
      "2\n",
      "3 5 \n"
     ]
    }
   ],
   "source": [
    "class Node:\n",
    "    def __init__(self, data):\n",
    "        self.data = data\n",
    "        self.next = None\n",
    "\n",
    "def create_linked_list(arr):\n",
    "    if not arr:\n",
    "        return None\n",
    "    head = Node(arr[0])\n",
    "    curr = head\n",
    "    for val in arr[1:]:\n",
    "        curr.next = Node(val)\n",
    "        curr = curr.next\n",
    "    return head\n",
    "\n",
    "def delete_kth_node(head, k):\n",
    "    if not head:\n",
    "        return None\n",
    "\n",
    "    if k == 1:\n",
    "        return head.next\n",
    "\n",
    "    current = head\n",
    "    count = 1\n",
    "    while current and count < k - 1:\n",
    "        current = current.next\n",
    "        count += 1\n",
    "\n",
    "    if not current or not current.next:\n",
    "        print(f\"Position {k} is out of bounds. No deletion performed.\")\n",
    "        return head\n",
    "\n",
    "    current.next = current.next.next\n",
    "    return head\n",
    "\n",
    "def print_linked_list(head):\n",
    "    curr = head\n",
    "    while curr:\n",
    "        print(curr.data, end=\" \")\n",
    "        curr = curr.next\n",
    "    print()\n",
    "\n",
    "arr_input = input().strip()\n",
    "arr = list(map(int, input().split()))\n",
    "k = int(input())\n",
    "\n",
    "head = create_linked_list(arr)\n",
    "head = delete_kth_node(head, k)\n",
    "\n",
    "print_linked_list(head)\n"
   ]
  },
  {
   "cell_type": "code",
   "execution_count": null,
   "id": "af67b301",
   "metadata": {},
   "outputs": [],
   "source": []
  }
 ],
 "metadata": {
  "kernelspec": {
   "display_name": "Python 3 (ipykernel)",
   "language": "python",
   "name": "python3"
  },
  "language_info": {
   "codemirror_mode": {
    "name": "ipython",
    "version": 3
   },
   "file_extension": ".py",
   "mimetype": "text/x-python",
   "name": "python",
   "nbconvert_exporter": "python",
   "pygments_lexer": "ipython3",
   "version": "3.11.5"
  }
 },
 "nbformat": 4,
 "nbformat_minor": 5
}
