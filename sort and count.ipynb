{
 "cells": [
  {
   "cell_type": "code",
   "execution_count": 1,
   "id": "b8d85f74",
   "metadata": {},
   "outputs": [
    {
     "name": "stdout",
     "output_type": "stream",
     "text": [
      "Enter numbers (0, 1, 2 only): 0 1 0 2 1 1 1 0 2 1\n",
      "Sorted array: [0, 0, 0, 1, 1, 1, 1, 1, 2, 2]\n"
     ]
    }
   ],
   "source": [
    "def count_sort(arr):\n",
    "    count0 = count1 = count2 = 0\n",
    "\n",
    "    for num in arr:\n",
    "        if num == 0:\n",
    "            count0 += 1\n",
    "        elif num == 1:\n",
    "            count1 += 1\n",
    "        else:\n",
    "            count2 += 1\n",
    "\n",
    "    index = 0\n",
    "    for _ in range(count0):\n",
    "        arr[index] = 0\n",
    "        index += 1\n",
    "    for _ in range(count1):\n",
    "        arr[index] = 1\n",
    "        index += 1\n",
    "    for _ in range(count2):\n",
    "        arr[index] = 2\n",
    "        index += 1\n",
    "\n",
    "    return arr\n",
    "\n",
    "arr = list(map(int, input(\"Enter numbers (0, 1, 2 only): \").split()))\n",
    "sorted_array = count_sort(arr)\n",
    "print(\"Sorted array:\", sorted_array)\n"
   ]
  },
  {
   "cell_type": "code",
   "execution_count": null,
   "id": "5d4dafe4",
   "metadata": {},
   "outputs": [],
   "source": []
  }
 ],
 "metadata": {
  "kernelspec": {
   "display_name": "Python 3 (ipykernel)",
   "language": "python",
   "name": "python3"
  },
  "language_info": {
   "codemirror_mode": {
    "name": "ipython",
    "version": 3
   },
   "file_extension": ".py",
   "mimetype": "text/x-python",
   "name": "python",
   "nbconvert_exporter": "python",
   "pygments_lexer": "ipython3",
   "version": "3.11.5"
  }
 },
 "nbformat": 4,
 "nbformat_minor": 5
}
