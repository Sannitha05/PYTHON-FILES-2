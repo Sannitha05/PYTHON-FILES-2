{
 "cells": [
  {
   "cell_type": "code",
   "execution_count": 1,
   "id": "ad12a539-3999-44f6-aaab-db57096c6373",
   "metadata": {},
   "outputs": [
    {
     "name": "stdout",
     "output_type": "stream",
     "text": [
      "[1, 2, 5, 6]\n"
     ]
    }
   ],
   "source": [
    "data=[1,2,5,6,2,5,6,1]\n",
    "data=list(set(data))\n",
    "print(str(data))"
   ]
  },
  {
   "cell_type": "code",
   "execution_count": 5,
   "id": "8b957805-9116-412a-a96b-b429d4e191e9",
   "metadata": {},
   "outputs": [
    {
     "name": "stdout",
     "output_type": "stream",
     "text": [
      "[0, 1, 2, 5, 6, 7, 8, 9, 11]\n"
     ]
    }
   ],
   "source": [
    "data=[1,2,5,11,6,2,5,9,0,7,8,6,1]\n",
    "data=list(set(data))\n",
    "print(str(data))"
   ]
  },
  {
   "cell_type": "code",
   "execution_count": null,
   "id": "98c2387e-fb0c-410f-b3d0-4f83e297f97d",
   "metadata": {},
   "outputs": [],
   "source": []
  }
 ],
 "metadata": {
  "kernelspec": {
   "display_name": "Python 3 (ipykernel)",
   "language": "python",
   "name": "python3"
  },
  "language_info": {
   "codemirror_mode": {
    "name": "ipython",
    "version": 3
   },
   "file_extension": ".py",
   "mimetype": "text/x-python",
   "name": "python",
   "nbconvert_exporter": "python",
   "pygments_lexer": "ipython3",
   "version": "3.11.7"
  }
 },
 "nbformat": 4,
 "nbformat_minor": 5
}
