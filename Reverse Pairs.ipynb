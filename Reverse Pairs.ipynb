{
 "cells": [
  {
   "cell_type": "code",
   "execution_count": 4,
   "id": "8be918dd",
   "metadata": {},
   "outputs": [
    {
     "name": "stdout",
     "output_type": "stream",
     "text": [
      "5\n",
      "1 3 2 3 1\n",
      "2\n"
     ]
    }
   ],
   "source": [
    "#brute force\n",
    "\n",
    "def count_reverse_pairs(arr):\n",
    "    count = 0\n",
    "    n = len(arr)\n",
    "    for i in range(n):\n",
    "        for j in range(i+1,n):\n",
    "            if arr[i] > 2*arr[j]:\n",
    "                count += 1\n",
    "    return count\n",
    "\n",
    "n = int(input())\n",
    "arr = list(map(int,input().split()))\n",
    "print(count_reverse_pairs(arr))"
   ]
  },
  {
   "cell_type": "markdown",
   "id": "5cbd2764",
   "metadata": {},
   "source": []
  },
  {
   "cell_type": "code",
   "execution_count": 5,
   "id": "cc49f807",
   "metadata": {},
   "outputs": [
    {
     "name": "stdout",
     "output_type": "stream",
     "text": [
      "5\n",
      "2 4 3 5 1\n",
      "3\n"
     ]
    }
   ],
   "source": [
    "#brute force\n",
    "\n",
    "def count_reverse_pairs(arr):\n",
    "    count = 0\n",
    "    n = len(arr)\n",
    "    for i in range(n):\n",
    "        for j in range(i+1,n):\n",
    "            if arr[i] > 2*arr[j]:\n",
    "                count += 1\n",
    "    return count\n",
    "\n",
    "n = int(input())\n",
    "arr = list(map(int,input().split()))\n",
    "print(count_reverse_pairs(arr))"
   ]
  },
  {
   "cell_type": "code",
   "execution_count": null,
   "id": "d3ca0792",
   "metadata": {},
   "outputs": [],
   "source": []
  }
 ],
 "metadata": {
  "kernelspec": {
   "display_name": "Python 3 (ipykernel)",
   "language": "python",
   "name": "python3"
  },
  "language_info": {
   "codemirror_mode": {
    "name": "ipython",
    "version": 3
   },
   "file_extension": ".py",
   "mimetype": "text/x-python",
   "name": "python",
   "nbconvert_exporter": "python",
   "pygments_lexer": "ipython3",
   "version": "3.11.5"
  }
 },
 "nbformat": 4,
 "nbformat_minor": 5
}
