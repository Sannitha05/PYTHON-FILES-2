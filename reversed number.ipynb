{
 "cells": [
  {
   "cell_type": "code",
   "execution_count": 1,
   "id": "1e35f121",
   "metadata": {},
   "outputs": [
    {
     "name": "stdout",
     "output_type": "stream",
     "text": [
      "enter the number:3456\n",
      "Reversed Number: 6543\n"
     ]
    }
   ],
   "source": [
    "n =int(input(\"enter the number:\"))\n",
    "reversed_n = 0\n",
    "while n != 0:\n",
    "    digit = n % 10\n",
    "    reversed_n = reversed_n * 10 + digit\n",
    "    n //= 10\n",
    "print(\"Reversed Number: \" + str(reversed_n))"
   ]
  },
  {
   "cell_type": "code",
   "execution_count": 2,
   "id": "3250ec67",
   "metadata": {},
   "outputs": [
    {
     "name": "stdout",
     "output_type": "stream",
     "text": [
      "Reversed Number: 4321\n"
     ]
    }
   ],
   "source": [
    "n = 1234\n",
    "reversed_n = 0\n",
    "while n != 0:\n",
    "    digit = n % 10\n",
    "    reversed_n = reversed_n * 10 + digit\n",
    "    n //= 10\n",
    "print(\"Reversed Number: \" + str(reversed_n))"
   ]
  },
  {
   "cell_type": "code",
   "execution_count": null,
   "id": "16672d37",
   "metadata": {},
   "outputs": [],
   "source": []
  }
 ],
 "metadata": {
  "kernelspec": {
   "display_name": "Python 3 (ipykernel)",
   "language": "python",
   "name": "python3"
  },
  "language_info": {
   "codemirror_mode": {
    "name": "ipython",
    "version": 3
   },
   "file_extension": ".py",
   "mimetype": "text/x-python",
   "name": "python",
   "nbconvert_exporter": "python",
   "pygments_lexer": "ipython3",
   "version": "3.11.5"
  }
 },
 "nbformat": 4,
 "nbformat_minor": 5
}
