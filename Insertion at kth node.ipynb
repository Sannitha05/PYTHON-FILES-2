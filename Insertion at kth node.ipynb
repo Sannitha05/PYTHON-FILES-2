{
 "cells": [
  {
   "cell_type": "code",
   "execution_count": 2,
   "id": "cfafb7e9",
   "metadata": {},
   "outputs": [
    {
     "name": "stdout",
     "output_type": "stream",
     "text": [
      "3\n",
      "1 2 3\n",
      "5 \n",
      "2\n",
      "1 5 2 3 \n"
     ]
    }
   ],
   "source": [
    "class Node:\n",
    "    def __init__(self, data):\n",
    "        self.data = data\n",
    "        self.next = None\n",
    "\n",
    "def insert_at_kth_position(head, X, K):\n",
    "    new_node = Node(X)\n",
    "    \n",
    "    if K == 1:\n",
    "        new_node.next = head\n",
    "        return new_node\n",
    "\n",
    "    current = head\n",
    "    count = 1\n",
    "    \n",
    "    while current and count < K - 1:\n",
    "        current = current.next\n",
    "        count += 1\n",
    "\n",
    "    if current is None:\n",
    "        print(\"Position out of bounds.\")\n",
    "        return head\n",
    "\n",
    "    new_node.next = current.next\n",
    "    current.next = new_node\n",
    "    return head\n",
    "\n",
    "def print_list(head):\n",
    "    current = head\n",
    "    while current:\n",
    "        print(current.data, end=' ')\n",
    "        current = current.next\n",
    "    print()\n",
    "\n",
    "def build_list(values):\n",
    "    head = None\n",
    "    tail = None\n",
    "    for val in values:\n",
    "        new_node = Node(val)\n",
    "        if not head:\n",
    "            head = new_node\n",
    "            tail = new_node\n",
    "        else:\n",
    "            tail.next = new_node\n",
    "            tail = new_node\n",
    "    return head\n",
    "\n",
    "n = int(input())\n",
    "values = list(map(int, input().split()))\n",
    "\n",
    "X = int(input())\n",
    "K = int(input())\n",
    "\n",
    "head = build_list(values)\n",
    "head = insert_at_kth_position(head, X, K)\n",
    "\n",
    "print_list(head)\n",
    "\n"
   ]
  },
  {
   "cell_type": "code",
   "execution_count": 3,
   "id": "479ce8fd",
   "metadata": {},
   "outputs": [
    {
     "name": "stdout",
     "output_type": "stream",
     "text": [
      "3\n",
      "1 2 3\n",
      "5\n",
      "2\n",
      "1 5 2 3 "
     ]
    }
   ],
   "source": [
    "class Node:\n",
    "    def __init__(self, data):\n",
    "        self.data = data\n",
    "        self.next = None\n",
    "\n",
    "def insert(head, X, K):\n",
    "    new = Node(X)\n",
    "    if K == 1:\n",
    "        new.next = head\n",
    "        return new\n",
    "    temp = head\n",
    "    for _ in range(K - 2):\n",
    "        if temp: temp = temp.next\n",
    "    if temp:\n",
    "        new.next = temp.next\n",
    "        temp.next = new\n",
    "    return head\n",
    "\n",
    "def print_list(head):\n",
    "    while head:\n",
    "        print(head.data, end=\" \")\n",
    "        head = head.next\n",
    "\n",
    "n = int(input())\n",
    "arr = list(map(int, input().split()))\n",
    "X = int(input())\n",
    "K = int(input())\n",
    "\n",
    "head = None\n",
    "tail = None\n",
    "for val in arr:\n",
    "    node = Node(val)\n",
    "    if not head:\n",
    "        head = tail = node\n",
    "    else:\n",
    "        tail.next = node\n",
    "        tail = node\n",
    "\n",
    "head = insert(head, X, K)\n",
    "print_list(head)"
   ]
  },
  {
   "cell_type": "code",
   "execution_count": null,
   "id": "e0aff247",
   "metadata": {},
   "outputs": [],
   "source": []
  }
 ],
 "metadata": {
  "kernelspec": {
   "display_name": "Python 3 (ipykernel)",
   "language": "python",
   "name": "python3"
  },
  "language_info": {
   "codemirror_mode": {
    "name": "ipython",
    "version": 3
   },
   "file_extension": ".py",
   "mimetype": "text/x-python",
   "name": "python",
   "nbconvert_exporter": "python",
   "pygments_lexer": "ipython3",
   "version": "3.11.5"
  }
 },
 "nbformat": 4,
 "nbformat_minor": 5
}
