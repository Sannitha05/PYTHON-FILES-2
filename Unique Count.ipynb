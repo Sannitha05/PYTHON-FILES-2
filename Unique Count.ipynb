{
 "cells": [
  {
   "cell_type": "code",
   "execution_count": null,
   "id": "949dd9c1",
   "metadata": {},
   "outputs": [],
   "source": [
    "import sys\n",
    "\n",
    "Left = int(sys.argv[1])\n",
    "Right = int(sys.argv[2])\n",
    "\n",
    "def has_unique_digits(n):\n",
    "    digits = set()\n",
    "    while n > 0:\n",
    "        digit = n % 10\n",
    "        if digit in digits:\n",
    "            return False\n",
    "        digits.add(digit)\n",
    "        n //= 10\n",
    "    return True\n",
    "\n",
    "def UniqueCount(Left, Right):\n",
    "    count = 0\n",
    "    for num in range(Left, Right + 1):\n",
    "        if has_unique_digits(num):\n",
    "            count += 1\n",
    "    return count\n",
    "\n",
    "print(UniqueCount(Left, Right))\n"
   ]
  }
 ],
 "metadata": {
  "kernelspec": {
   "display_name": "Python 3 (ipykernel)",
   "language": "python",
   "name": "python3"
  },
  "language_info": {
   "codemirror_mode": {
    "name": "ipython",
    "version": 3
   },
   "file_extension": ".py",
   "mimetype": "text/x-python",
   "name": "python",
   "nbconvert_exporter": "python",
   "pygments_lexer": "ipython3",
   "version": "3.11.5"
  }
 },
 "nbformat": 4,
 "nbformat_minor": 5
}
